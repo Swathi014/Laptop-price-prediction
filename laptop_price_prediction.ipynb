{
  "nbformat": 4,
  "nbformat_minor": 0,
  "metadata": {
    "colab": {
      "provenance": []
    },
    "kernelspec": {
      "name": "python3",
      "display_name": "Python 3"
    },
    "language_info": {
      "name": "python"
    }
  },
  "cells": [
    {
      "cell_type": "markdown",
      "source": [
        "##laptop_price_prediction"
      ],
      "metadata": {
        "id": "SZknNZzpCUxU"
      }
    },
    {
      "cell_type": "code",
      "execution_count": 1,
      "metadata": {
        "id": "Q4GS5Qy3eypE"
      },
      "outputs": [],
      "source": [
        "import pandas as pd\n",
        "import numpy as np\n",
        "import matplotlib.pyplot as plt\n",
        "import seaborn as sns\n",
        "from sklearn.model_selection import train_test_split, GridSearchCV\n",
        "from sklearn.pipeline import Pipeline\n",
        "from sklearn.ensemble import RandomForestRegressor\n",
        "from sklearn.linear_model import LinearRegression\n",
        "from sklearn.tree import DecisionTreeRegressor\n",
        "from sklearn.metrics import r2_score\n",
        "import joblib\n",
        "\n",
        "import warnings\n",
        "\n",
        "warnings.filterwarnings('ignore')"
      ]
    },
    {
      "cell_type": "code",
      "source": [
        "laptop_data = pd.read_csv('/content/drive/MyDrive/Project/Group Project/Dataset/laptopData.csv')\n",
        "data= laptop_data.copy()"
      ],
      "metadata": {
        "id": "JMoAo4Gdfa34"
      },
      "execution_count": 5,
      "outputs": []
    },
    {
      "cell_type": "code",
      "source": [
        "data.head()"
      ],
      "metadata": {
        "colab": {
          "base_uri": "https://localhost:8080/",
          "height": 310
        },
        "id": "LbLUcN2gfatG",
        "outputId": "ec9dad0b-26e4-4d70-e670-b03587d521d5"
      },
      "execution_count": 6,
      "outputs": [
        {
          "output_type": "execute_result",
          "data": {
            "text/plain": [
              "   Unnamed: 0 Company   TypeName Inches                    ScreenResolution  \\\n",
              "0         0.0   Apple  Ultrabook   13.3  IPS Panel Retina Display 2560x1600   \n",
              "1         1.0   Apple  Ultrabook   13.3                            1440x900   \n",
              "2         2.0      HP   Notebook   15.6                   Full HD 1920x1080   \n",
              "3         3.0   Apple  Ultrabook   15.4  IPS Panel Retina Display 2880x1800   \n",
              "4         4.0   Apple  Ultrabook   13.3  IPS Panel Retina Display 2560x1600   \n",
              "\n",
              "                          Cpu   Ram               Memory  \\\n",
              "0        Intel Core i5 2.3GHz   8GB            128GB SSD   \n",
              "1        Intel Core i5 1.8GHz   8GB  128GB Flash Storage   \n",
              "2  Intel Core i5 7200U 2.5GHz   8GB            256GB SSD   \n",
              "3        Intel Core i7 2.7GHz  16GB            512GB SSD   \n",
              "4        Intel Core i5 3.1GHz   8GB            256GB SSD   \n",
              "\n",
              "                            Gpu  OpSys  Weight        Price  \n",
              "0  Intel Iris Plus Graphics 640  macOS  1.37kg   71378.6832  \n",
              "1        Intel HD Graphics 6000  macOS  1.34kg   47895.5232  \n",
              "2         Intel HD Graphics 620  No OS  1.86kg   30636.0000  \n",
              "3            AMD Radeon Pro 455  macOS  1.83kg  135195.3360  \n",
              "4  Intel Iris Plus Graphics 650  macOS  1.37kg   96095.8080  "
            ],
            "text/html": [
              "\n",
              "  <div id=\"df-53f26570-2975-4b7a-b8de-5580dddf04e3\" class=\"colab-df-container\">\n",
              "    <div>\n",
              "<style scoped>\n",
              "    .dataframe tbody tr th:only-of-type {\n",
              "        vertical-align: middle;\n",
              "    }\n",
              "\n",
              "    .dataframe tbody tr th {\n",
              "        vertical-align: top;\n",
              "    }\n",
              "\n",
              "    .dataframe thead th {\n",
              "        text-align: right;\n",
              "    }\n",
              "</style>\n",
              "<table border=\"1\" class=\"dataframe\">\n",
              "  <thead>\n",
              "    <tr style=\"text-align: right;\">\n",
              "      <th></th>\n",
              "      <th>Unnamed: 0</th>\n",
              "      <th>Company</th>\n",
              "      <th>TypeName</th>\n",
              "      <th>Inches</th>\n",
              "      <th>ScreenResolution</th>\n",
              "      <th>Cpu</th>\n",
              "      <th>Ram</th>\n",
              "      <th>Memory</th>\n",
              "      <th>Gpu</th>\n",
              "      <th>OpSys</th>\n",
              "      <th>Weight</th>\n",
              "      <th>Price</th>\n",
              "    </tr>\n",
              "  </thead>\n",
              "  <tbody>\n",
              "    <tr>\n",
              "      <th>0</th>\n",
              "      <td>0.0</td>\n",
              "      <td>Apple</td>\n",
              "      <td>Ultrabook</td>\n",
              "      <td>13.3</td>\n",
              "      <td>IPS Panel Retina Display 2560x1600</td>\n",
              "      <td>Intel Core i5 2.3GHz</td>\n",
              "      <td>8GB</td>\n",
              "      <td>128GB SSD</td>\n",
              "      <td>Intel Iris Plus Graphics 640</td>\n",
              "      <td>macOS</td>\n",
              "      <td>1.37kg</td>\n",
              "      <td>71378.6832</td>\n",
              "    </tr>\n",
              "    <tr>\n",
              "      <th>1</th>\n",
              "      <td>1.0</td>\n",
              "      <td>Apple</td>\n",
              "      <td>Ultrabook</td>\n",
              "      <td>13.3</td>\n",
              "      <td>1440x900</td>\n",
              "      <td>Intel Core i5 1.8GHz</td>\n",
              "      <td>8GB</td>\n",
              "      <td>128GB Flash Storage</td>\n",
              "      <td>Intel HD Graphics 6000</td>\n",
              "      <td>macOS</td>\n",
              "      <td>1.34kg</td>\n",
              "      <td>47895.5232</td>\n",
              "    </tr>\n",
              "    <tr>\n",
              "      <th>2</th>\n",
              "      <td>2.0</td>\n",
              "      <td>HP</td>\n",
              "      <td>Notebook</td>\n",
              "      <td>15.6</td>\n",
              "      <td>Full HD 1920x1080</td>\n",
              "      <td>Intel Core i5 7200U 2.5GHz</td>\n",
              "      <td>8GB</td>\n",
              "      <td>256GB SSD</td>\n",
              "      <td>Intel HD Graphics 620</td>\n",
              "      <td>No OS</td>\n",
              "      <td>1.86kg</td>\n",
              "      <td>30636.0000</td>\n",
              "    </tr>\n",
              "    <tr>\n",
              "      <th>3</th>\n",
              "      <td>3.0</td>\n",
              "      <td>Apple</td>\n",
              "      <td>Ultrabook</td>\n",
              "      <td>15.4</td>\n",
              "      <td>IPS Panel Retina Display 2880x1800</td>\n",
              "      <td>Intel Core i7 2.7GHz</td>\n",
              "      <td>16GB</td>\n",
              "      <td>512GB SSD</td>\n",
              "      <td>AMD Radeon Pro 455</td>\n",
              "      <td>macOS</td>\n",
              "      <td>1.83kg</td>\n",
              "      <td>135195.3360</td>\n",
              "    </tr>\n",
              "    <tr>\n",
              "      <th>4</th>\n",
              "      <td>4.0</td>\n",
              "      <td>Apple</td>\n",
              "      <td>Ultrabook</td>\n",
              "      <td>13.3</td>\n",
              "      <td>IPS Panel Retina Display 2560x1600</td>\n",
              "      <td>Intel Core i5 3.1GHz</td>\n",
              "      <td>8GB</td>\n",
              "      <td>256GB SSD</td>\n",
              "      <td>Intel Iris Plus Graphics 650</td>\n",
              "      <td>macOS</td>\n",
              "      <td>1.37kg</td>\n",
              "      <td>96095.8080</td>\n",
              "    </tr>\n",
              "  </tbody>\n",
              "</table>\n",
              "</div>\n",
              "    <div class=\"colab-df-buttons\">\n",
              "\n",
              "  <div class=\"colab-df-container\">\n",
              "    <button class=\"colab-df-convert\" onclick=\"convertToInteractive('df-53f26570-2975-4b7a-b8de-5580dddf04e3')\"\n",
              "            title=\"Convert this dataframe to an interactive table.\"\n",
              "            style=\"display:none;\">\n",
              "\n",
              "  <svg xmlns=\"http://www.w3.org/2000/svg\" height=\"24px\" viewBox=\"0 -960 960 960\">\n",
              "    <path d=\"M120-120v-720h720v720H120Zm60-500h600v-160H180v160Zm220 220h160v-160H400v160Zm0 220h160v-160H400v160ZM180-400h160v-160H180v160Zm440 0h160v-160H620v160ZM180-180h160v-160H180v160Zm440 0h160v-160H620v160Z\"/>\n",
              "  </svg>\n",
              "    </button>\n",
              "\n",
              "  <style>\n",
              "    .colab-df-container {\n",
              "      display:flex;\n",
              "      gap: 12px;\n",
              "    }\n",
              "\n",
              "    .colab-df-convert {\n",
              "      background-color: #E8F0FE;\n",
              "      border: none;\n",
              "      border-radius: 50%;\n",
              "      cursor: pointer;\n",
              "      display: none;\n",
              "      fill: #1967D2;\n",
              "      height: 32px;\n",
              "      padding: 0 0 0 0;\n",
              "      width: 32px;\n",
              "    }\n",
              "\n",
              "    .colab-df-convert:hover {\n",
              "      background-color: #E2EBFA;\n",
              "      box-shadow: 0px 1px 2px rgba(60, 64, 67, 0.3), 0px 1px 3px 1px rgba(60, 64, 67, 0.15);\n",
              "      fill: #174EA6;\n",
              "    }\n",
              "\n",
              "    .colab-df-buttons div {\n",
              "      margin-bottom: 4px;\n",
              "    }\n",
              "\n",
              "    [theme=dark] .colab-df-convert {\n",
              "      background-color: #3B4455;\n",
              "      fill: #D2E3FC;\n",
              "    }\n",
              "\n",
              "    [theme=dark] .colab-df-convert:hover {\n",
              "      background-color: #434B5C;\n",
              "      box-shadow: 0px 1px 3px 1px rgba(0, 0, 0, 0.15);\n",
              "      filter: drop-shadow(0px 1px 2px rgba(0, 0, 0, 0.3));\n",
              "      fill: #FFFFFF;\n",
              "    }\n",
              "  </style>\n",
              "\n",
              "    <script>\n",
              "      const buttonEl =\n",
              "        document.querySelector('#df-53f26570-2975-4b7a-b8de-5580dddf04e3 button.colab-df-convert');\n",
              "      buttonEl.style.display =\n",
              "        google.colab.kernel.accessAllowed ? 'block' : 'none';\n",
              "\n",
              "      async function convertToInteractive(key) {\n",
              "        const element = document.querySelector('#df-53f26570-2975-4b7a-b8de-5580dddf04e3');\n",
              "        const dataTable =\n",
              "          await google.colab.kernel.invokeFunction('convertToInteractive',\n",
              "                                                    [key], {});\n",
              "        if (!dataTable) return;\n",
              "\n",
              "        const docLinkHtml = 'Like what you see? Visit the ' +\n",
              "          '<a target=\"_blank\" href=https://colab.research.google.com/notebooks/data_table.ipynb>data table notebook</a>'\n",
              "          + ' to learn more about interactive tables.';\n",
              "        element.innerHTML = '';\n",
              "        dataTable['output_type'] = 'display_data';\n",
              "        await google.colab.output.renderOutput(dataTable, element);\n",
              "        const docLink = document.createElement('div');\n",
              "        docLink.innerHTML = docLinkHtml;\n",
              "        element.appendChild(docLink);\n",
              "      }\n",
              "    </script>\n",
              "  </div>\n",
              "\n",
              "\n",
              "<div id=\"df-92d66e72-59c9-4b26-b6d4-0b130976b655\">\n",
              "  <button class=\"colab-df-quickchart\" onclick=\"quickchart('df-92d66e72-59c9-4b26-b6d4-0b130976b655')\"\n",
              "            title=\"Suggest charts\"\n",
              "            style=\"display:none;\">\n",
              "\n",
              "<svg xmlns=\"http://www.w3.org/2000/svg\" height=\"24px\"viewBox=\"0 0 24 24\"\n",
              "     width=\"24px\">\n",
              "    <g>\n",
              "        <path d=\"M19 3H5c-1.1 0-2 .9-2 2v14c0 1.1.9 2 2 2h14c1.1 0 2-.9 2-2V5c0-1.1-.9-2-2-2zM9 17H7v-7h2v7zm4 0h-2V7h2v10zm4 0h-2v-4h2v4z\"/>\n",
              "    </g>\n",
              "</svg>\n",
              "  </button>\n",
              "\n",
              "<style>\n",
              "  .colab-df-quickchart {\n",
              "      --bg-color: #E8F0FE;\n",
              "      --fill-color: #1967D2;\n",
              "      --hover-bg-color: #E2EBFA;\n",
              "      --hover-fill-color: #174EA6;\n",
              "      --disabled-fill-color: #AAA;\n",
              "      --disabled-bg-color: #DDD;\n",
              "  }\n",
              "\n",
              "  [theme=dark] .colab-df-quickchart {\n",
              "      --bg-color: #3B4455;\n",
              "      --fill-color: #D2E3FC;\n",
              "      --hover-bg-color: #434B5C;\n",
              "      --hover-fill-color: #FFFFFF;\n",
              "      --disabled-bg-color: #3B4455;\n",
              "      --disabled-fill-color: #666;\n",
              "  }\n",
              "\n",
              "  .colab-df-quickchart {\n",
              "    background-color: var(--bg-color);\n",
              "    border: none;\n",
              "    border-radius: 50%;\n",
              "    cursor: pointer;\n",
              "    display: none;\n",
              "    fill: var(--fill-color);\n",
              "    height: 32px;\n",
              "    padding: 0;\n",
              "    width: 32px;\n",
              "  }\n",
              "\n",
              "  .colab-df-quickchart:hover {\n",
              "    background-color: var(--hover-bg-color);\n",
              "    box-shadow: 0 1px 2px rgba(60, 64, 67, 0.3), 0 1px 3px 1px rgba(60, 64, 67, 0.15);\n",
              "    fill: var(--button-hover-fill-color);\n",
              "  }\n",
              "\n",
              "  .colab-df-quickchart-complete:disabled,\n",
              "  .colab-df-quickchart-complete:disabled:hover {\n",
              "    background-color: var(--disabled-bg-color);\n",
              "    fill: var(--disabled-fill-color);\n",
              "    box-shadow: none;\n",
              "  }\n",
              "\n",
              "  .colab-df-spinner {\n",
              "    border: 2px solid var(--fill-color);\n",
              "    border-color: transparent;\n",
              "    border-bottom-color: var(--fill-color);\n",
              "    animation:\n",
              "      spin 1s steps(1) infinite;\n",
              "  }\n",
              "\n",
              "  @keyframes spin {\n",
              "    0% {\n",
              "      border-color: transparent;\n",
              "      border-bottom-color: var(--fill-color);\n",
              "      border-left-color: var(--fill-color);\n",
              "    }\n",
              "    20% {\n",
              "      border-color: transparent;\n",
              "      border-left-color: var(--fill-color);\n",
              "      border-top-color: var(--fill-color);\n",
              "    }\n",
              "    30% {\n",
              "      border-color: transparent;\n",
              "      border-left-color: var(--fill-color);\n",
              "      border-top-color: var(--fill-color);\n",
              "      border-right-color: var(--fill-color);\n",
              "    }\n",
              "    40% {\n",
              "      border-color: transparent;\n",
              "      border-right-color: var(--fill-color);\n",
              "      border-top-color: var(--fill-color);\n",
              "    }\n",
              "    60% {\n",
              "      border-color: transparent;\n",
              "      border-right-color: var(--fill-color);\n",
              "    }\n",
              "    80% {\n",
              "      border-color: transparent;\n",
              "      border-right-color: var(--fill-color);\n",
              "      border-bottom-color: var(--fill-color);\n",
              "    }\n",
              "    90% {\n",
              "      border-color: transparent;\n",
              "      border-bottom-color: var(--fill-color);\n",
              "    }\n",
              "  }\n",
              "</style>\n",
              "\n",
              "  <script>\n",
              "    async function quickchart(key) {\n",
              "      const quickchartButtonEl =\n",
              "        document.querySelector('#' + key + ' button');\n",
              "      quickchartButtonEl.disabled = true;  // To prevent multiple clicks.\n",
              "      quickchartButtonEl.classList.add('colab-df-spinner');\n",
              "      try {\n",
              "        const charts = await google.colab.kernel.invokeFunction(\n",
              "            'suggestCharts', [key], {});\n",
              "      } catch (error) {\n",
              "        console.error('Error during call to suggestCharts:', error);\n",
              "      }\n",
              "      quickchartButtonEl.classList.remove('colab-df-spinner');\n",
              "      quickchartButtonEl.classList.add('colab-df-quickchart-complete');\n",
              "    }\n",
              "    (() => {\n",
              "      let quickchartButtonEl =\n",
              "        document.querySelector('#df-92d66e72-59c9-4b26-b6d4-0b130976b655 button');\n",
              "      quickchartButtonEl.style.display =\n",
              "        google.colab.kernel.accessAllowed ? 'block' : 'none';\n",
              "    })();\n",
              "  </script>\n",
              "</div>\n",
              "\n",
              "    </div>\n",
              "  </div>\n"
            ],
            "application/vnd.google.colaboratory.intrinsic+json": {
              "type": "dataframe",
              "variable_name": "data",
              "summary": "{\n  \"name\": \"data\",\n  \"rows\": 1303,\n  \"fields\": [\n    {\n      \"column\": \"Unnamed: 0\",\n      \"properties\": {\n        \"dtype\": \"number\",\n        \"std\": 376.49302715628085,\n        \"min\": 0.0,\n        \"max\": 1302.0,\n        \"num_unique_values\": 1273,\n        \"samples\": [\n          44.0,\n          1188.0,\n          133.0\n        ],\n        \"semantic_type\": \"\",\n        \"description\": \"\"\n      }\n    },\n    {\n      \"column\": \"Company\",\n      \"properties\": {\n        \"dtype\": \"category\",\n        \"num_unique_values\": 19,\n        \"samples\": [\n          \"Apple\",\n          \"Lenovo\",\n          \"Xiaomi\"\n        ],\n        \"semantic_type\": \"\",\n        \"description\": \"\"\n      }\n    },\n    {\n      \"column\": \"TypeName\",\n      \"properties\": {\n        \"dtype\": \"category\",\n        \"num_unique_values\": 6,\n        \"samples\": [\n          \"Ultrabook\",\n          \"Notebook\",\n          \"Netbook\"\n        ],\n        \"semantic_type\": \"\",\n        \"description\": \"\"\n      }\n    },\n    {\n      \"column\": \"Inches\",\n      \"properties\": {\n        \"dtype\": \"category\",\n        \"num_unique_values\": 25,\n        \"samples\": [\n          \"13\",\n          \"24\",\n          \"13.3\"\n        ],\n        \"semantic_type\": \"\",\n        \"description\": \"\"\n      }\n    },\n    {\n      \"column\": \"ScreenResolution\",\n      \"properties\": {\n        \"dtype\": \"category\",\n        \"num_unique_values\": 40,\n        \"samples\": [\n          \"Touchscreen 1366x768\",\n          \"1600x900\",\n          \"4K Ultra HD / Touchscreen 3840x2160\"\n        ],\n        \"semantic_type\": \"\",\n        \"description\": \"\"\n      }\n    },\n    {\n      \"column\": \"Cpu\",\n      \"properties\": {\n        \"dtype\": \"category\",\n        \"num_unique_values\": 118,\n        \"samples\": [\n          \"AMD A12-Series 9720P 2.7GHz\",\n          \"Intel Atom Z8350 1.92GHz\",\n          \"Intel Core i5 3.1GHz\"\n        ],\n        \"semantic_type\": \"\",\n        \"description\": \"\"\n      }\n    },\n    {\n      \"column\": \"Ram\",\n      \"properties\": {\n        \"dtype\": \"category\",\n        \"num_unique_values\": 10,\n        \"samples\": [\n          \"24GB\",\n          \"16GB\",\n          \"64GB\"\n        ],\n        \"semantic_type\": \"\",\n        \"description\": \"\"\n      }\n    },\n    {\n      \"column\": \"Memory\",\n      \"properties\": {\n        \"dtype\": \"category\",\n        \"num_unique_values\": 40,\n        \"samples\": [\n          \"256GB SSD +  500GB HDD\",\n          \"1.0TB Hybrid\",\n          \"64GB SSD\"\n        ],\n        \"semantic_type\": \"\",\n        \"description\": \"\"\n      }\n    },\n    {\n      \"column\": \"Gpu\",\n      \"properties\": {\n        \"dtype\": \"category\",\n        \"num_unique_values\": 110,\n        \"samples\": [\n          \"AMD Radeon R7\",\n          \"AMD Radeon Pro 555\",\n          \"Intel Iris Plus Graphics 650\"\n        ],\n        \"semantic_type\": \"\",\n        \"description\": \"\"\n      }\n    },\n    {\n      \"column\": \"OpSys\",\n      \"properties\": {\n        \"dtype\": \"category\",\n        \"num_unique_values\": 9,\n        \"samples\": [\n          \"Windows 7\",\n          \"No OS\",\n          \"Windows 10 S\"\n        ],\n        \"semantic_type\": \"\",\n        \"description\": \"\"\n      }\n    },\n    {\n      \"column\": \"Weight\",\n      \"properties\": {\n        \"dtype\": \"category\",\n        \"num_unique_values\": 189,\n        \"samples\": [\n          \"2.21kg\",\n          \"3.74kg\",\n          \"1.65kg\"\n        ],\n        \"semantic_type\": \"\",\n        \"description\": \"\"\n      }\n    },\n    {\n      \"column\": \"Price\",\n      \"properties\": {\n        \"dtype\": \"number\",\n        \"std\": 37332.251004569844,\n        \"min\": 9270.72,\n        \"max\": 324954.72,\n        \"num_unique_values\": 777,\n        \"samples\": [\n          68464.8,\n          71341.92,\n          77788.8\n        ],\n        \"semantic_type\": \"\",\n        \"description\": \"\"\n      }\n    }\n  ]\n}"
            }
          },
          "metadata": {},
          "execution_count": 6
        }
      ]
    },
    {
      "cell_type": "code",
      "source": [
        "data.tail()"
      ],
      "metadata": {
        "colab": {
          "base_uri": "https://localhost:8080/",
          "height": 310
        },
        "id": "SSqs_Ol0fvgg",
        "outputId": "671ae306-6266-4af0-eb17-7434edb4d4b8"
      },
      "execution_count": 7,
      "outputs": [
        {
          "output_type": "execute_result",
          "data": {
            "text/plain": [
              "      Unnamed: 0 Company            TypeName Inches  \\\n",
              "1298      1298.0  Lenovo  2 in 1 Convertible     14   \n",
              "1299      1299.0  Lenovo  2 in 1 Convertible   13.3   \n",
              "1300      1300.0  Lenovo            Notebook     14   \n",
              "1301      1301.0      HP            Notebook   15.6   \n",
              "1302      1302.0    Asus            Notebook   15.6   \n",
              "\n",
              "                                ScreenResolution  \\\n",
              "1298   IPS Panel Full HD / Touchscreen 1920x1080   \n",
              "1299  IPS Panel Quad HD+ / Touchscreen 3200x1800   \n",
              "1300                                    1366x768   \n",
              "1301                                    1366x768   \n",
              "1302                                    1366x768   \n",
              "\n",
              "                                       Cpu   Ram              Memory  \\\n",
              "1298            Intel Core i7 6500U 2.5GHz   4GB           128GB SSD   \n",
              "1299            Intel Core i7 6500U 2.5GHz  16GB           512GB SSD   \n",
              "1300  Intel Celeron Dual Core N3050 1.6GHz   2GB  64GB Flash Storage   \n",
              "1301            Intel Core i7 6500U 2.5GHz   6GB             1TB HDD   \n",
              "1302  Intel Celeron Dual Core N3050 1.6GHz   4GB           500GB HDD   \n",
              "\n",
              "                        Gpu       OpSys  Weight     Price  \n",
              "1298  Intel HD Graphics 520  Windows 10   1.8kg  33992.64  \n",
              "1299  Intel HD Graphics 520  Windows 10   1.3kg  79866.72  \n",
              "1300      Intel HD Graphics  Windows 10   1.5kg  12201.12  \n",
              "1301     AMD Radeon R5 M330  Windows 10  2.19kg  40705.92  \n",
              "1302      Intel HD Graphics  Windows 10   2.2kg  19660.32  "
            ],
            "text/html": [
              "\n",
              "  <div id=\"df-3454b38f-ad2f-43b4-84c3-75e1f7d777ed\" class=\"colab-df-container\">\n",
              "    <div>\n",
              "<style scoped>\n",
              "    .dataframe tbody tr th:only-of-type {\n",
              "        vertical-align: middle;\n",
              "    }\n",
              "\n",
              "    .dataframe tbody tr th {\n",
              "        vertical-align: top;\n",
              "    }\n",
              "\n",
              "    .dataframe thead th {\n",
              "        text-align: right;\n",
              "    }\n",
              "</style>\n",
              "<table border=\"1\" class=\"dataframe\">\n",
              "  <thead>\n",
              "    <tr style=\"text-align: right;\">\n",
              "      <th></th>\n",
              "      <th>Unnamed: 0</th>\n",
              "      <th>Company</th>\n",
              "      <th>TypeName</th>\n",
              "      <th>Inches</th>\n",
              "      <th>ScreenResolution</th>\n",
              "      <th>Cpu</th>\n",
              "      <th>Ram</th>\n",
              "      <th>Memory</th>\n",
              "      <th>Gpu</th>\n",
              "      <th>OpSys</th>\n",
              "      <th>Weight</th>\n",
              "      <th>Price</th>\n",
              "    </tr>\n",
              "  </thead>\n",
              "  <tbody>\n",
              "    <tr>\n",
              "      <th>1298</th>\n",
              "      <td>1298.0</td>\n",
              "      <td>Lenovo</td>\n",
              "      <td>2 in 1 Convertible</td>\n",
              "      <td>14</td>\n",
              "      <td>IPS Panel Full HD / Touchscreen 1920x1080</td>\n",
              "      <td>Intel Core i7 6500U 2.5GHz</td>\n",
              "      <td>4GB</td>\n",
              "      <td>128GB SSD</td>\n",
              "      <td>Intel HD Graphics 520</td>\n",
              "      <td>Windows 10</td>\n",
              "      <td>1.8kg</td>\n",
              "      <td>33992.64</td>\n",
              "    </tr>\n",
              "    <tr>\n",
              "      <th>1299</th>\n",
              "      <td>1299.0</td>\n",
              "      <td>Lenovo</td>\n",
              "      <td>2 in 1 Convertible</td>\n",
              "      <td>13.3</td>\n",
              "      <td>IPS Panel Quad HD+ / Touchscreen 3200x1800</td>\n",
              "      <td>Intel Core i7 6500U 2.5GHz</td>\n",
              "      <td>16GB</td>\n",
              "      <td>512GB SSD</td>\n",
              "      <td>Intel HD Graphics 520</td>\n",
              "      <td>Windows 10</td>\n",
              "      <td>1.3kg</td>\n",
              "      <td>79866.72</td>\n",
              "    </tr>\n",
              "    <tr>\n",
              "      <th>1300</th>\n",
              "      <td>1300.0</td>\n",
              "      <td>Lenovo</td>\n",
              "      <td>Notebook</td>\n",
              "      <td>14</td>\n",
              "      <td>1366x768</td>\n",
              "      <td>Intel Celeron Dual Core N3050 1.6GHz</td>\n",
              "      <td>2GB</td>\n",
              "      <td>64GB Flash Storage</td>\n",
              "      <td>Intel HD Graphics</td>\n",
              "      <td>Windows 10</td>\n",
              "      <td>1.5kg</td>\n",
              "      <td>12201.12</td>\n",
              "    </tr>\n",
              "    <tr>\n",
              "      <th>1301</th>\n",
              "      <td>1301.0</td>\n",
              "      <td>HP</td>\n",
              "      <td>Notebook</td>\n",
              "      <td>15.6</td>\n",
              "      <td>1366x768</td>\n",
              "      <td>Intel Core i7 6500U 2.5GHz</td>\n",
              "      <td>6GB</td>\n",
              "      <td>1TB HDD</td>\n",
              "      <td>AMD Radeon R5 M330</td>\n",
              "      <td>Windows 10</td>\n",
              "      <td>2.19kg</td>\n",
              "      <td>40705.92</td>\n",
              "    </tr>\n",
              "    <tr>\n",
              "      <th>1302</th>\n",
              "      <td>1302.0</td>\n",
              "      <td>Asus</td>\n",
              "      <td>Notebook</td>\n",
              "      <td>15.6</td>\n",
              "      <td>1366x768</td>\n",
              "      <td>Intel Celeron Dual Core N3050 1.6GHz</td>\n",
              "      <td>4GB</td>\n",
              "      <td>500GB HDD</td>\n",
              "      <td>Intel HD Graphics</td>\n",
              "      <td>Windows 10</td>\n",
              "      <td>2.2kg</td>\n",
              "      <td>19660.32</td>\n",
              "    </tr>\n",
              "  </tbody>\n",
              "</table>\n",
              "</div>\n",
              "    <div class=\"colab-df-buttons\">\n",
              "\n",
              "  <div class=\"colab-df-container\">\n",
              "    <button class=\"colab-df-convert\" onclick=\"convertToInteractive('df-3454b38f-ad2f-43b4-84c3-75e1f7d777ed')\"\n",
              "            title=\"Convert this dataframe to an interactive table.\"\n",
              "            style=\"display:none;\">\n",
              "\n",
              "  <svg xmlns=\"http://www.w3.org/2000/svg\" height=\"24px\" viewBox=\"0 -960 960 960\">\n",
              "    <path d=\"M120-120v-720h720v720H120Zm60-500h600v-160H180v160Zm220 220h160v-160H400v160Zm0 220h160v-160H400v160ZM180-400h160v-160H180v160Zm440 0h160v-160H620v160ZM180-180h160v-160H180v160Zm440 0h160v-160H620v160Z\"/>\n",
              "  </svg>\n",
              "    </button>\n",
              "\n",
              "  <style>\n",
              "    .colab-df-container {\n",
              "      display:flex;\n",
              "      gap: 12px;\n",
              "    }\n",
              "\n",
              "    .colab-df-convert {\n",
              "      background-color: #E8F0FE;\n",
              "      border: none;\n",
              "      border-radius: 50%;\n",
              "      cursor: pointer;\n",
              "      display: none;\n",
              "      fill: #1967D2;\n",
              "      height: 32px;\n",
              "      padding: 0 0 0 0;\n",
              "      width: 32px;\n",
              "    }\n",
              "\n",
              "    .colab-df-convert:hover {\n",
              "      background-color: #E2EBFA;\n",
              "      box-shadow: 0px 1px 2px rgba(60, 64, 67, 0.3), 0px 1px 3px 1px rgba(60, 64, 67, 0.15);\n",
              "      fill: #174EA6;\n",
              "    }\n",
              "\n",
              "    .colab-df-buttons div {\n",
              "      margin-bottom: 4px;\n",
              "    }\n",
              "\n",
              "    [theme=dark] .colab-df-convert {\n",
              "      background-color: #3B4455;\n",
              "      fill: #D2E3FC;\n",
              "    }\n",
              "\n",
              "    [theme=dark] .colab-df-convert:hover {\n",
              "      background-color: #434B5C;\n",
              "      box-shadow: 0px 1px 3px 1px rgba(0, 0, 0, 0.15);\n",
              "      filter: drop-shadow(0px 1px 2px rgba(0, 0, 0, 0.3));\n",
              "      fill: #FFFFFF;\n",
              "    }\n",
              "  </style>\n",
              "\n",
              "    <script>\n",
              "      const buttonEl =\n",
              "        document.querySelector('#df-3454b38f-ad2f-43b4-84c3-75e1f7d777ed button.colab-df-convert');\n",
              "      buttonEl.style.display =\n",
              "        google.colab.kernel.accessAllowed ? 'block' : 'none';\n",
              "\n",
              "      async function convertToInteractive(key) {\n",
              "        const element = document.querySelector('#df-3454b38f-ad2f-43b4-84c3-75e1f7d777ed');\n",
              "        const dataTable =\n",
              "          await google.colab.kernel.invokeFunction('convertToInteractive',\n",
              "                                                    [key], {});\n",
              "        if (!dataTable) return;\n",
              "\n",
              "        const docLinkHtml = 'Like what you see? Visit the ' +\n",
              "          '<a target=\"_blank\" href=https://colab.research.google.com/notebooks/data_table.ipynb>data table notebook</a>'\n",
              "          + ' to learn more about interactive tables.';\n",
              "        element.innerHTML = '';\n",
              "        dataTable['output_type'] = 'display_data';\n",
              "        await google.colab.output.renderOutput(dataTable, element);\n",
              "        const docLink = document.createElement('div');\n",
              "        docLink.innerHTML = docLinkHtml;\n",
              "        element.appendChild(docLink);\n",
              "      }\n",
              "    </script>\n",
              "  </div>\n",
              "\n",
              "\n",
              "<div id=\"df-74bf0836-6e70-4a45-a68e-1ce5a4365a77\">\n",
              "  <button class=\"colab-df-quickchart\" onclick=\"quickchart('df-74bf0836-6e70-4a45-a68e-1ce5a4365a77')\"\n",
              "            title=\"Suggest charts\"\n",
              "            style=\"display:none;\">\n",
              "\n",
              "<svg xmlns=\"http://www.w3.org/2000/svg\" height=\"24px\"viewBox=\"0 0 24 24\"\n",
              "     width=\"24px\">\n",
              "    <g>\n",
              "        <path d=\"M19 3H5c-1.1 0-2 .9-2 2v14c0 1.1.9 2 2 2h14c1.1 0 2-.9 2-2V5c0-1.1-.9-2-2-2zM9 17H7v-7h2v7zm4 0h-2V7h2v10zm4 0h-2v-4h2v4z\"/>\n",
              "    </g>\n",
              "</svg>\n",
              "  </button>\n",
              "\n",
              "<style>\n",
              "  .colab-df-quickchart {\n",
              "      --bg-color: #E8F0FE;\n",
              "      --fill-color: #1967D2;\n",
              "      --hover-bg-color: #E2EBFA;\n",
              "      --hover-fill-color: #174EA6;\n",
              "      --disabled-fill-color: #AAA;\n",
              "      --disabled-bg-color: #DDD;\n",
              "  }\n",
              "\n",
              "  [theme=dark] .colab-df-quickchart {\n",
              "      --bg-color: #3B4455;\n",
              "      --fill-color: #D2E3FC;\n",
              "      --hover-bg-color: #434B5C;\n",
              "      --hover-fill-color: #FFFFFF;\n",
              "      --disabled-bg-color: #3B4455;\n",
              "      --disabled-fill-color: #666;\n",
              "  }\n",
              "\n",
              "  .colab-df-quickchart {\n",
              "    background-color: var(--bg-color);\n",
              "    border: none;\n",
              "    border-radius: 50%;\n",
              "    cursor: pointer;\n",
              "    display: none;\n",
              "    fill: var(--fill-color);\n",
              "    height: 32px;\n",
              "    padding: 0;\n",
              "    width: 32px;\n",
              "  }\n",
              "\n",
              "  .colab-df-quickchart:hover {\n",
              "    background-color: var(--hover-bg-color);\n",
              "    box-shadow: 0 1px 2px rgba(60, 64, 67, 0.3), 0 1px 3px 1px rgba(60, 64, 67, 0.15);\n",
              "    fill: var(--button-hover-fill-color);\n",
              "  }\n",
              "\n",
              "  .colab-df-quickchart-complete:disabled,\n",
              "  .colab-df-quickchart-complete:disabled:hover {\n",
              "    background-color: var(--disabled-bg-color);\n",
              "    fill: var(--disabled-fill-color);\n",
              "    box-shadow: none;\n",
              "  }\n",
              "\n",
              "  .colab-df-spinner {\n",
              "    border: 2px solid var(--fill-color);\n",
              "    border-color: transparent;\n",
              "    border-bottom-color: var(--fill-color);\n",
              "    animation:\n",
              "      spin 1s steps(1) infinite;\n",
              "  }\n",
              "\n",
              "  @keyframes spin {\n",
              "    0% {\n",
              "      border-color: transparent;\n",
              "      border-bottom-color: var(--fill-color);\n",
              "      border-left-color: var(--fill-color);\n",
              "    }\n",
              "    20% {\n",
              "      border-color: transparent;\n",
              "      border-left-color: var(--fill-color);\n",
              "      border-top-color: var(--fill-color);\n",
              "    }\n",
              "    30% {\n",
              "      border-color: transparent;\n",
              "      border-left-color: var(--fill-color);\n",
              "      border-top-color: var(--fill-color);\n",
              "      border-right-color: var(--fill-color);\n",
              "    }\n",
              "    40% {\n",
              "      border-color: transparent;\n",
              "      border-right-color: var(--fill-color);\n",
              "      border-top-color: var(--fill-color);\n",
              "    }\n",
              "    60% {\n",
              "      border-color: transparent;\n",
              "      border-right-color: var(--fill-color);\n",
              "    }\n",
              "    80% {\n",
              "      border-color: transparent;\n",
              "      border-right-color: var(--fill-color);\n",
              "      border-bottom-color: var(--fill-color);\n",
              "    }\n",
              "    90% {\n",
              "      border-color: transparent;\n",
              "      border-bottom-color: var(--fill-color);\n",
              "    }\n",
              "  }\n",
              "</style>\n",
              "\n",
              "  <script>\n",
              "    async function quickchart(key) {\n",
              "      const quickchartButtonEl =\n",
              "        document.querySelector('#' + key + ' button');\n",
              "      quickchartButtonEl.disabled = true;  // To prevent multiple clicks.\n",
              "      quickchartButtonEl.classList.add('colab-df-spinner');\n",
              "      try {\n",
              "        const charts = await google.colab.kernel.invokeFunction(\n",
              "            'suggestCharts', [key], {});\n",
              "      } catch (error) {\n",
              "        console.error('Error during call to suggestCharts:', error);\n",
              "      }\n",
              "      quickchartButtonEl.classList.remove('colab-df-spinner');\n",
              "      quickchartButtonEl.classList.add('colab-df-quickchart-complete');\n",
              "    }\n",
              "    (() => {\n",
              "      let quickchartButtonEl =\n",
              "        document.querySelector('#df-74bf0836-6e70-4a45-a68e-1ce5a4365a77 button');\n",
              "      quickchartButtonEl.style.display =\n",
              "        google.colab.kernel.accessAllowed ? 'block' : 'none';\n",
              "    })();\n",
              "  </script>\n",
              "</div>\n",
              "\n",
              "    </div>\n",
              "  </div>\n"
            ],
            "application/vnd.google.colaboratory.intrinsic+json": {
              "type": "dataframe",
              "summary": "{\n  \"name\": \"data\",\n  \"rows\": 5,\n  \"fields\": [\n    {\n      \"column\": \"Unnamed: 0\",\n      \"properties\": {\n        \"dtype\": \"number\",\n        \"std\": 1.5811388300841898,\n        \"min\": 1298.0,\n        \"max\": 1302.0,\n        \"num_unique_values\": 5,\n        \"samples\": [\n          1299.0,\n          1302.0,\n          1300.0\n        ],\n        \"semantic_type\": \"\",\n        \"description\": \"\"\n      }\n    },\n    {\n      \"column\": \"Company\",\n      \"properties\": {\n        \"dtype\": \"string\",\n        \"num_unique_values\": 3,\n        \"samples\": [\n          \"Lenovo\",\n          \"HP\",\n          \"Asus\"\n        ],\n        \"semantic_type\": \"\",\n        \"description\": \"\"\n      }\n    },\n    {\n      \"column\": \"TypeName\",\n      \"properties\": {\n        \"dtype\": \"category\",\n        \"num_unique_values\": 2,\n        \"samples\": [\n          \"Notebook\",\n          \"2 in 1 Convertible\"\n        ],\n        \"semantic_type\": \"\",\n        \"description\": \"\"\n      }\n    },\n    {\n      \"column\": \"Inches\",\n      \"properties\": {\n        \"dtype\": \"string\",\n        \"num_unique_values\": 3,\n        \"samples\": [\n          \"14\",\n          \"13.3\"\n        ],\n        \"semantic_type\": \"\",\n        \"description\": \"\"\n      }\n    },\n    {\n      \"column\": \"ScreenResolution\",\n      \"properties\": {\n        \"dtype\": \"string\",\n        \"num_unique_values\": 3,\n        \"samples\": [\n          \"IPS Panel Full HD / Touchscreen 1920x1080\",\n          \"IPS Panel Quad HD+ / Touchscreen 3200x1800\"\n        ],\n        \"semantic_type\": \"\",\n        \"description\": \"\"\n      }\n    },\n    {\n      \"column\": \"Cpu\",\n      \"properties\": {\n        \"dtype\": \"category\",\n        \"num_unique_values\": 2,\n        \"samples\": [\n          \"Intel Celeron Dual Core N3050 1.6GHz\",\n          \"Intel Core i7 6500U 2.5GHz\"\n        ],\n        \"semantic_type\": \"\",\n        \"description\": \"\"\n      }\n    },\n    {\n      \"column\": \"Ram\",\n      \"properties\": {\n        \"dtype\": \"string\",\n        \"num_unique_values\": 4,\n        \"samples\": [\n          \"16GB\",\n          \"6GB\"\n        ],\n        \"semantic_type\": \"\",\n        \"description\": \"\"\n      }\n    },\n    {\n      \"column\": \"Memory\",\n      \"properties\": {\n        \"dtype\": \"string\",\n        \"num_unique_values\": 5,\n        \"samples\": [\n          \"512GB SSD\",\n          \"500GB HDD\"\n        ],\n        \"semantic_type\": \"\",\n        \"description\": \"\"\n      }\n    },\n    {\n      \"column\": \"Gpu\",\n      \"properties\": {\n        \"dtype\": \"string\",\n        \"num_unique_values\": 3,\n        \"samples\": [\n          \"Intel HD Graphics 520\",\n          \"Intel HD Graphics\"\n        ],\n        \"semantic_type\": \"\",\n        \"description\": \"\"\n      }\n    },\n    {\n      \"column\": \"OpSys\",\n      \"properties\": {\n        \"dtype\": \"category\",\n        \"num_unique_values\": 1,\n        \"samples\": [\n          \"Windows 10\"\n        ],\n        \"semantic_type\": \"\",\n        \"description\": \"\"\n      }\n    },\n    {\n      \"column\": \"Weight\",\n      \"properties\": {\n        \"dtype\": \"string\",\n        \"num_unique_values\": 5,\n        \"samples\": [\n          \"1.3kg\"\n        ],\n        \"semantic_type\": \"\",\n        \"description\": \"\"\n      }\n    },\n    {\n      \"column\": \"Price\",\n      \"properties\": {\n        \"dtype\": \"number\",\n        \"std\": 26341.86585333089,\n        \"min\": 12201.12,\n        \"max\": 79866.72,\n        \"num_unique_values\": 5,\n        \"samples\": [\n          79866.72\n        ],\n        \"semantic_type\": \"\",\n        \"description\": \"\"\n      }\n    }\n  ]\n}"
            }
          },
          "metadata": {},
          "execution_count": 7
        }
      ]
    },
    {
      "cell_type": "code",
      "source": [
        "data.shape"
      ],
      "metadata": {
        "colab": {
          "base_uri": "https://localhost:8080/"
        },
        "id": "7_be_2BrfzDV",
        "outputId": "eef44758-f7e7-4757-d332-1853f9fc7101"
      },
      "execution_count": 8,
      "outputs": [
        {
          "output_type": "execute_result",
          "data": {
            "text/plain": [
              "(1303, 12)"
            ]
          },
          "metadata": {},
          "execution_count": 8
        }
      ]
    },
    {
      "cell_type": "code",
      "source": [
        "data.size"
      ],
      "metadata": {
        "colab": {
          "base_uri": "https://localhost:8080/"
        },
        "id": "spGQPeuKf0Yn",
        "outputId": "c40f52c7-6696-409c-8330-246410e340d1"
      },
      "execution_count": 9,
      "outputs": [
        {
          "output_type": "execute_result",
          "data": {
            "text/plain": [
              "15636"
            ]
          },
          "metadata": {},
          "execution_count": 9
        }
      ]
    },
    {
      "cell_type": "code",
      "source": [
        "data.describe()"
      ],
      "metadata": {
        "colab": {
          "base_uri": "https://localhost:8080/",
          "height": 300
        },
        "id": "_EVS2FF_fwwB",
        "outputId": "75a3cc9e-c13c-49f5-ffd4-9161a462caa6"
      },
      "execution_count": 10,
      "outputs": [
        {
          "output_type": "execute_result",
          "data": {
            "text/plain": [
              "        Unnamed: 0          Price\n",
              "count  1273.000000    1273.000000\n",
              "mean    652.674784   59955.814073\n",
              "std     376.493027   37332.251005\n",
              "min       0.000000    9270.720000\n",
              "25%     327.000000   31914.720000\n",
              "50%     652.000000   52161.120000\n",
              "75%     980.000000   79333.387200\n",
              "max    1302.000000  324954.720000"
            ],
            "text/html": [
              "\n",
              "  <div id=\"df-908bd9a2-b1a3-49bf-9afe-cc352a170f12\" class=\"colab-df-container\">\n",
              "    <div>\n",
              "<style scoped>\n",
              "    .dataframe tbody tr th:only-of-type {\n",
              "        vertical-align: middle;\n",
              "    }\n",
              "\n",
              "    .dataframe tbody tr th {\n",
              "        vertical-align: top;\n",
              "    }\n",
              "\n",
              "    .dataframe thead th {\n",
              "        text-align: right;\n",
              "    }\n",
              "</style>\n",
              "<table border=\"1\" class=\"dataframe\">\n",
              "  <thead>\n",
              "    <tr style=\"text-align: right;\">\n",
              "      <th></th>\n",
              "      <th>Unnamed: 0</th>\n",
              "      <th>Price</th>\n",
              "    </tr>\n",
              "  </thead>\n",
              "  <tbody>\n",
              "    <tr>\n",
              "      <th>count</th>\n",
              "      <td>1273.000000</td>\n",
              "      <td>1273.000000</td>\n",
              "    </tr>\n",
              "    <tr>\n",
              "      <th>mean</th>\n",
              "      <td>652.674784</td>\n",
              "      <td>59955.814073</td>\n",
              "    </tr>\n",
              "    <tr>\n",
              "      <th>std</th>\n",
              "      <td>376.493027</td>\n",
              "      <td>37332.251005</td>\n",
              "    </tr>\n",
              "    <tr>\n",
              "      <th>min</th>\n",
              "      <td>0.000000</td>\n",
              "      <td>9270.720000</td>\n",
              "    </tr>\n",
              "    <tr>\n",
              "      <th>25%</th>\n",
              "      <td>327.000000</td>\n",
              "      <td>31914.720000</td>\n",
              "    </tr>\n",
              "    <tr>\n",
              "      <th>50%</th>\n",
              "      <td>652.000000</td>\n",
              "      <td>52161.120000</td>\n",
              "    </tr>\n",
              "    <tr>\n",
              "      <th>75%</th>\n",
              "      <td>980.000000</td>\n",
              "      <td>79333.387200</td>\n",
              "    </tr>\n",
              "    <tr>\n",
              "      <th>max</th>\n",
              "      <td>1302.000000</td>\n",
              "      <td>324954.720000</td>\n",
              "    </tr>\n",
              "  </tbody>\n",
              "</table>\n",
              "</div>\n",
              "    <div class=\"colab-df-buttons\">\n",
              "\n",
              "  <div class=\"colab-df-container\">\n",
              "    <button class=\"colab-df-convert\" onclick=\"convertToInteractive('df-908bd9a2-b1a3-49bf-9afe-cc352a170f12')\"\n",
              "            title=\"Convert this dataframe to an interactive table.\"\n",
              "            style=\"display:none;\">\n",
              "\n",
              "  <svg xmlns=\"http://www.w3.org/2000/svg\" height=\"24px\" viewBox=\"0 -960 960 960\">\n",
              "    <path d=\"M120-120v-720h720v720H120Zm60-500h600v-160H180v160Zm220 220h160v-160H400v160Zm0 220h160v-160H400v160ZM180-400h160v-160H180v160Zm440 0h160v-160H620v160ZM180-180h160v-160H180v160Zm440 0h160v-160H620v160Z\"/>\n",
              "  </svg>\n",
              "    </button>\n",
              "\n",
              "  <style>\n",
              "    .colab-df-container {\n",
              "      display:flex;\n",
              "      gap: 12px;\n",
              "    }\n",
              "\n",
              "    .colab-df-convert {\n",
              "      background-color: #E8F0FE;\n",
              "      border: none;\n",
              "      border-radius: 50%;\n",
              "      cursor: pointer;\n",
              "      display: none;\n",
              "      fill: #1967D2;\n",
              "      height: 32px;\n",
              "      padding: 0 0 0 0;\n",
              "      width: 32px;\n",
              "    }\n",
              "\n",
              "    .colab-df-convert:hover {\n",
              "      background-color: #E2EBFA;\n",
              "      box-shadow: 0px 1px 2px rgba(60, 64, 67, 0.3), 0px 1px 3px 1px rgba(60, 64, 67, 0.15);\n",
              "      fill: #174EA6;\n",
              "    }\n",
              "\n",
              "    .colab-df-buttons div {\n",
              "      margin-bottom: 4px;\n",
              "    }\n",
              "\n",
              "    [theme=dark] .colab-df-convert {\n",
              "      background-color: #3B4455;\n",
              "      fill: #D2E3FC;\n",
              "    }\n",
              "\n",
              "    [theme=dark] .colab-df-convert:hover {\n",
              "      background-color: #434B5C;\n",
              "      box-shadow: 0px 1px 3px 1px rgba(0, 0, 0, 0.15);\n",
              "      filter: drop-shadow(0px 1px 2px rgba(0, 0, 0, 0.3));\n",
              "      fill: #FFFFFF;\n",
              "    }\n",
              "  </style>\n",
              "\n",
              "    <script>\n",
              "      const buttonEl =\n",
              "        document.querySelector('#df-908bd9a2-b1a3-49bf-9afe-cc352a170f12 button.colab-df-convert');\n",
              "      buttonEl.style.display =\n",
              "        google.colab.kernel.accessAllowed ? 'block' : 'none';\n",
              "\n",
              "      async function convertToInteractive(key) {\n",
              "        const element = document.querySelector('#df-908bd9a2-b1a3-49bf-9afe-cc352a170f12');\n",
              "        const dataTable =\n",
              "          await google.colab.kernel.invokeFunction('convertToInteractive',\n",
              "                                                    [key], {});\n",
              "        if (!dataTable) return;\n",
              "\n",
              "        const docLinkHtml = 'Like what you see? Visit the ' +\n",
              "          '<a target=\"_blank\" href=https://colab.research.google.com/notebooks/data_table.ipynb>data table notebook</a>'\n",
              "          + ' to learn more about interactive tables.';\n",
              "        element.innerHTML = '';\n",
              "        dataTable['output_type'] = 'display_data';\n",
              "        await google.colab.output.renderOutput(dataTable, element);\n",
              "        const docLink = document.createElement('div');\n",
              "        docLink.innerHTML = docLinkHtml;\n",
              "        element.appendChild(docLink);\n",
              "      }\n",
              "    </script>\n",
              "  </div>\n",
              "\n",
              "\n",
              "<div id=\"df-9140ba5a-d3f4-4b2f-9adf-8d1e009ab114\">\n",
              "  <button class=\"colab-df-quickchart\" onclick=\"quickchart('df-9140ba5a-d3f4-4b2f-9adf-8d1e009ab114')\"\n",
              "            title=\"Suggest charts\"\n",
              "            style=\"display:none;\">\n",
              "\n",
              "<svg xmlns=\"http://www.w3.org/2000/svg\" height=\"24px\"viewBox=\"0 0 24 24\"\n",
              "     width=\"24px\">\n",
              "    <g>\n",
              "        <path d=\"M19 3H5c-1.1 0-2 .9-2 2v14c0 1.1.9 2 2 2h14c1.1 0 2-.9 2-2V5c0-1.1-.9-2-2-2zM9 17H7v-7h2v7zm4 0h-2V7h2v10zm4 0h-2v-4h2v4z\"/>\n",
              "    </g>\n",
              "</svg>\n",
              "  </button>\n",
              "\n",
              "<style>\n",
              "  .colab-df-quickchart {\n",
              "      --bg-color: #E8F0FE;\n",
              "      --fill-color: #1967D2;\n",
              "      --hover-bg-color: #E2EBFA;\n",
              "      --hover-fill-color: #174EA6;\n",
              "      --disabled-fill-color: #AAA;\n",
              "      --disabled-bg-color: #DDD;\n",
              "  }\n",
              "\n",
              "  [theme=dark] .colab-df-quickchart {\n",
              "      --bg-color: #3B4455;\n",
              "      --fill-color: #D2E3FC;\n",
              "      --hover-bg-color: #434B5C;\n",
              "      --hover-fill-color: #FFFFFF;\n",
              "      --disabled-bg-color: #3B4455;\n",
              "      --disabled-fill-color: #666;\n",
              "  }\n",
              "\n",
              "  .colab-df-quickchart {\n",
              "    background-color: var(--bg-color);\n",
              "    border: none;\n",
              "    border-radius: 50%;\n",
              "    cursor: pointer;\n",
              "    display: none;\n",
              "    fill: var(--fill-color);\n",
              "    height: 32px;\n",
              "    padding: 0;\n",
              "    width: 32px;\n",
              "  }\n",
              "\n",
              "  .colab-df-quickchart:hover {\n",
              "    background-color: var(--hover-bg-color);\n",
              "    box-shadow: 0 1px 2px rgba(60, 64, 67, 0.3), 0 1px 3px 1px rgba(60, 64, 67, 0.15);\n",
              "    fill: var(--button-hover-fill-color);\n",
              "  }\n",
              "\n",
              "  .colab-df-quickchart-complete:disabled,\n",
              "  .colab-df-quickchart-complete:disabled:hover {\n",
              "    background-color: var(--disabled-bg-color);\n",
              "    fill: var(--disabled-fill-color);\n",
              "    box-shadow: none;\n",
              "  }\n",
              "\n",
              "  .colab-df-spinner {\n",
              "    border: 2px solid var(--fill-color);\n",
              "    border-color: transparent;\n",
              "    border-bottom-color: var(--fill-color);\n",
              "    animation:\n",
              "      spin 1s steps(1) infinite;\n",
              "  }\n",
              "\n",
              "  @keyframes spin {\n",
              "    0% {\n",
              "      border-color: transparent;\n",
              "      border-bottom-color: var(--fill-color);\n",
              "      border-left-color: var(--fill-color);\n",
              "    }\n",
              "    20% {\n",
              "      border-color: transparent;\n",
              "      border-left-color: var(--fill-color);\n",
              "      border-top-color: var(--fill-color);\n",
              "    }\n",
              "    30% {\n",
              "      border-color: transparent;\n",
              "      border-left-color: var(--fill-color);\n",
              "      border-top-color: var(--fill-color);\n",
              "      border-right-color: var(--fill-color);\n",
              "    }\n",
              "    40% {\n",
              "      border-color: transparent;\n",
              "      border-right-color: var(--fill-color);\n",
              "      border-top-color: var(--fill-color);\n",
              "    }\n",
              "    60% {\n",
              "      border-color: transparent;\n",
              "      border-right-color: var(--fill-color);\n",
              "    }\n",
              "    80% {\n",
              "      border-color: transparent;\n",
              "      border-right-color: var(--fill-color);\n",
              "      border-bottom-color: var(--fill-color);\n",
              "    }\n",
              "    90% {\n",
              "      border-color: transparent;\n",
              "      border-bottom-color: var(--fill-color);\n",
              "    }\n",
              "  }\n",
              "</style>\n",
              "\n",
              "  <script>\n",
              "    async function quickchart(key) {\n",
              "      const quickchartButtonEl =\n",
              "        document.querySelector('#' + key + ' button');\n",
              "      quickchartButtonEl.disabled = true;  // To prevent multiple clicks.\n",
              "      quickchartButtonEl.classList.add('colab-df-spinner');\n",
              "      try {\n",
              "        const charts = await google.colab.kernel.invokeFunction(\n",
              "            'suggestCharts', [key], {});\n",
              "      } catch (error) {\n",
              "        console.error('Error during call to suggestCharts:', error);\n",
              "      }\n",
              "      quickchartButtonEl.classList.remove('colab-df-spinner');\n",
              "      quickchartButtonEl.classList.add('colab-df-quickchart-complete');\n",
              "    }\n",
              "    (() => {\n",
              "      let quickchartButtonEl =\n",
              "        document.querySelector('#df-9140ba5a-d3f4-4b2f-9adf-8d1e009ab114 button');\n",
              "      quickchartButtonEl.style.display =\n",
              "        google.colab.kernel.accessAllowed ? 'block' : 'none';\n",
              "    })();\n",
              "  </script>\n",
              "</div>\n",
              "\n",
              "    </div>\n",
              "  </div>\n"
            ],
            "application/vnd.google.colaboratory.intrinsic+json": {
              "type": "dataframe",
              "summary": "{\n  \"name\": \"data\",\n  \"rows\": 8,\n  \"fields\": [\n    {\n      \"column\": \"Unnamed: 0\",\n      \"properties\": {\n        \"dtype\": \"number\",\n        \"std\": 464.0339983362093,\n        \"min\": 0.0,\n        \"max\": 1302.0,\n        \"num_unique_values\": 8,\n        \"samples\": [\n          652.6747839748625,\n          652.0,\n          1273.0\n        ],\n        \"semantic_type\": \"\",\n        \"description\": \"\"\n      }\n    },\n    {\n      \"column\": \"Price\",\n      \"properties\": {\n        \"dtype\": \"number\",\n        \"std\": 104384.92136149906,\n        \"min\": 1273.0,\n        \"max\": 324954.72,\n        \"num_unique_values\": 8,\n        \"samples\": [\n          59955.81407321288,\n          52161.12,\n          1273.0\n        ],\n        \"semantic_type\": \"\",\n        \"description\": \"\"\n      }\n    }\n  ]\n}"
            }
          },
          "metadata": {},
          "execution_count": 10
        }
      ]
    },
    {
      "cell_type": "code",
      "source": [
        "data.nunique()"
      ],
      "metadata": {
        "colab": {
          "base_uri": "https://localhost:8080/"
        },
        "id": "8XQVgw74E5zw",
        "outputId": "b8695939-5be3-4862-dac3-ca21d516985a"
      },
      "execution_count": 11,
      "outputs": [
        {
          "output_type": "execute_result",
          "data": {
            "text/plain": [
              "Unnamed: 0          1273\n",
              "Company               19\n",
              "TypeName               6\n",
              "Inches                25\n",
              "ScreenResolution      40\n",
              "Cpu                  118\n",
              "Ram                   10\n",
              "Memory                40\n",
              "Gpu                  110\n",
              "OpSys                  9\n",
              "Weight               189\n",
              "Price                777\n",
              "dtype: int64"
            ]
          },
          "metadata": {},
          "execution_count": 11
        }
      ]
    },
    {
      "cell_type": "code",
      "source": [
        "data.info()"
      ],
      "metadata": {
        "colab": {
          "base_uri": "https://localhost:8080/"
        },
        "id": "gI7B-jnbtt7O",
        "outputId": "50b4ba63-4dc4-4284-fb66-af115736f3e6"
      },
      "execution_count": 12,
      "outputs": [
        {
          "output_type": "stream",
          "name": "stdout",
          "text": [
            "<class 'pandas.core.frame.DataFrame'>\n",
            "RangeIndex: 1303 entries, 0 to 1302\n",
            "Data columns (total 12 columns):\n",
            " #   Column            Non-Null Count  Dtype  \n",
            "---  ------            --------------  -----  \n",
            " 0   Unnamed: 0        1273 non-null   float64\n",
            " 1   Company           1273 non-null   object \n",
            " 2   TypeName          1273 non-null   object \n",
            " 3   Inches            1273 non-null   object \n",
            " 4   ScreenResolution  1273 non-null   object \n",
            " 5   Cpu               1273 non-null   object \n",
            " 6   Ram               1273 non-null   object \n",
            " 7   Memory            1273 non-null   object \n",
            " 8   Gpu               1273 non-null   object \n",
            " 9   OpSys             1273 non-null   object \n",
            " 10  Weight            1273 non-null   object \n",
            " 11  Price             1273 non-null   float64\n",
            "dtypes: float64(2), object(10)\n",
            "memory usage: 122.3+ KB\n"
          ]
        }
      ]
    },
    {
      "cell_type": "code",
      "source": [
        "# find missing values\n",
        "data.isnull().sum()"
      ],
      "metadata": {
        "colab": {
          "base_uri": "https://localhost:8080/"
        },
        "id": "Hq8nlDuffye3",
        "outputId": "aeaa0842-1015-4b73-c180-dee50998bdd9"
      },
      "execution_count": 13,
      "outputs": [
        {
          "output_type": "execute_result",
          "data": {
            "text/plain": [
              "Unnamed: 0          30\n",
              "Company             30\n",
              "TypeName            30\n",
              "Inches              30\n",
              "ScreenResolution    30\n",
              "Cpu                 30\n",
              "Ram                 30\n",
              "Memory              30\n",
              "Gpu                 30\n",
              "OpSys               30\n",
              "Weight              30\n",
              "Price               30\n",
              "dtype: int64"
            ]
          },
          "metadata": {},
          "execution_count": 13
        }
      ]
    },
    {
      "cell_type": "code",
      "source": [
        "# remove unnecessary features\n",
        "data.drop(['Unnamed: 0'], axis=1, inplace=True)"
      ],
      "metadata": {
        "id": "EOq9qbKYgKpy"
      },
      "execution_count": 14,
      "outputs": []
    },
    {
      "cell_type": "code",
      "source": [
        "# value count of Companies\n",
        "data['Company'].value_counts()"
      ],
      "metadata": {
        "colab": {
          "base_uri": "https://localhost:8080/"
        },
        "id": "06qaCjtcgy3g",
        "outputId": "baee5a4b-848c-4a29-bcb6-1711f06b42d1"
      },
      "execution_count": 15,
      "outputs": [
        {
          "output_type": "execute_result",
          "data": {
            "text/plain": [
              "Company\n",
              "Lenovo       290\n",
              "Dell         287\n",
              "HP           266\n",
              "Asus         156\n",
              "Acer         103\n",
              "MSI           53\n",
              "Toshiba       47\n",
              "Apple         21\n",
              "Samsung        9\n",
              "Razer          7\n",
              "Mediacom       7\n",
              "Microsoft      6\n",
              "Xiaomi         4\n",
              "Vero           4\n",
              "Chuwi          3\n",
              "Google         3\n",
              "LG             3\n",
              "Huawei         2\n",
              "Fujitsu        2\n",
              "Name: count, dtype: int64"
            ]
          },
          "metadata": {},
          "execution_count": 15
        }
      ]
    },
    {
      "cell_type": "code",
      "source": [
        "for i in data.columns:\n",
        "  print(data[i].unique(),':-',i)\n",
        "  print('**'*20)"
      ],
      "metadata": {
        "id": "BM-4jS-FRZHs",
        "outputId": "b59ff0a6-eee8-4981-d9cb-65460ecfb68b",
        "colab": {
          "base_uri": "https://localhost:8080/"
        }
      },
      "execution_count": 16,
      "outputs": [
        {
          "output_type": "stream",
          "name": "stdout",
          "text": [
            "['Apple' 'HP' 'Acer' 'Asus' 'Dell' 'Lenovo' nan 'Chuwi' 'MSI' 'Microsoft'\n",
            " 'Toshiba' 'Huawei' 'Xiaomi' 'Vero' 'Razer' 'Mediacom' 'Samsung' 'Google'\n",
            " 'Fujitsu' 'LG'] :- Company\n",
            "****************************************\n",
            "['Ultrabook' 'Notebook' nan 'Gaming' '2 in 1 Convertible' 'Workstation'\n",
            " 'Netbook'] :- TypeName\n",
            "****************************************\n",
            "['13.3' '15.6' '15.4' '14' '12' nan '17.3' '13.5' '12.5' '13' '18.4'\n",
            " '13.9' '11.6' '25.6' '35.6' '12.3' '27.3' '24' '33.5' '?' '31.6' '17'\n",
            " '15' '14.1' '11.3' '10.1'] :- Inches\n",
            "****************************************\n",
            "['IPS Panel Retina Display 2560x1600' '1440x900' 'Full HD 1920x1080'\n",
            " 'IPS Panel Retina Display 2880x1800' '1366x768'\n",
            " 'IPS Panel Full HD 1920x1080' 'IPS Panel Retina Display 2304x1440'\n",
            " 'IPS Panel Full HD / Touchscreen 1920x1080' nan\n",
            " 'Full HD / Touchscreen 1920x1080' 'Touchscreen / Quad HD+ 3200x1800'\n",
            " 'Touchscreen 2256x1504' 'Quad HD+ / Touchscreen 3200x1800'\n",
            " 'IPS Panel 1366x768' 'IPS Panel 4K Ultra HD / Touchscreen 3840x2160'\n",
            " 'IPS Panel Full HD 2160x1440' '4K Ultra HD / Touchscreen 3840x2160'\n",
            " '1600x900' 'IPS Panel 4K Ultra HD 3840x2160' '4K Ultra HD 3840x2160'\n",
            " 'Touchscreen 1366x768' 'Touchscreen 2560x1440'\n",
            " 'IPS Panel Full HD 1366x768' 'IPS Panel 2560x1440'\n",
            " 'IPS Panel Full HD 2560x1440' 'IPS Panel Retina Display 2736x1824'\n",
            " 'Touchscreen 2400x1600' '2560x1440' 'IPS Panel Quad HD+ 2560x1440'\n",
            " 'IPS Panel Quad HD+ 3200x1800'\n",
            " 'IPS Panel Quad HD+ / Touchscreen 3200x1800'\n",
            " 'IPS Panel Touchscreen 1366x768' '1920x1080'\n",
            " 'IPS Panel Full HD 1920x1200'\n",
            " 'IPS Panel Touchscreen / 4K Ultra HD 3840x2160'\n",
            " 'IPS Panel Touchscreen 2560x1440' 'Touchscreen / Full HD 1920x1080'\n",
            " 'Quad HD+ 3200x1800' 'IPS Panel Touchscreen 1920x1200'\n",
            " 'Touchscreen / 4K Ultra HD 3840x2160' 'IPS Panel Touchscreen 2400x1600'] :- ScreenResolution\n",
            "****************************************\n",
            "['Intel Core i5 2.3GHz' 'Intel Core i5 1.8GHz'\n",
            " 'Intel Core i5 7200U 2.5GHz' 'Intel Core i7 2.7GHz'\n",
            " 'Intel Core i5 3.1GHz' 'AMD A9-Series 9420 3GHz' 'Intel Core i7 2.2GHz'\n",
            " 'Intel Core i7 8550U 1.8GHz' 'Intel Core i5 8250U 1.6GHz'\n",
            " 'Intel Core i3 6006U 2GHz' 'Intel Core i7 2.8GHz'\n",
            " 'Intel Core M m3 1.2GHz' 'Intel Core i7 7500U 2.7GHz'\n",
            " 'Intel Core i7 2.9GHz' 'Intel Core i3 7100U 2.4GHz' nan\n",
            " 'Intel Core i5 7300HQ 2.5GHz' 'AMD E-Series E2-9000e 1.5GHz'\n",
            " 'Intel Core i5 1.6GHz' 'Intel Core i7 8650U 1.9GHz'\n",
            " 'Intel Atom x5-Z8300 1.44GHz' 'AMD E-Series E2-6110 1.5GHz'\n",
            " 'AMD A6-Series 9220 2.5GHz' 'Intel Celeron Dual Core N3350 1.1GHz'\n",
            " 'Intel Core i3 7130U 2.7GHz' 'Intel Core i7 7700HQ 2.8GHz'\n",
            " 'Intel Core i5 2.0GHz' 'AMD Ryzen 1700 3GHz'\n",
            " 'Intel Pentium Quad Core N4200 1.1GHz'\n",
            " 'Intel Celeron Dual Core N3060 1.6GHz' 'Intel Core i5 1.3GHz'\n",
            " 'AMD FX 9830P 3GHz' 'Intel Core i7 7560U 2.4GHz'\n",
            " 'AMD E-Series 6110 1.5GHz' 'Intel Core i5 6200U 2.3GHz'\n",
            " 'Intel Core M 6Y75 1.2GHz' 'Intel Core i5 7500U 2.7GHz'\n",
            " 'Intel Core i3 6006U 2.2GHz' 'AMD A6-Series 9220 2.9GHz'\n",
            " 'Intel Core i7 6920HQ 2.9GHz' 'Intel Core i5 7Y54 1.2GHz'\n",
            " 'Intel Core i7 7820HK 2.9GHz' 'Intel Xeon E3-1505M V6 3GHz'\n",
            " 'Intel Core i7 6500U 2.5GHz' 'AMD E-Series 9000e 1.5GHz'\n",
            " 'AMD A10-Series A10-9620P 2.5GHz' 'AMD A6-Series A6-9220 2.5GHz'\n",
            " 'Intel Core i5 2.9GHz' 'Intel Core i7 6600U 2.6GHz'\n",
            " 'Intel Core i3 6006U 2.0GHz' 'Intel Celeron Dual Core 3205U 1.5GHz'\n",
            " 'Intel Core i7 7820HQ 2.9GHz' 'AMD A10-Series 9600P 2.4GHz'\n",
            " 'Intel Core i7 7600U 2.8GHz' 'AMD A8-Series 7410 2.2GHz'\n",
            " 'Intel Celeron Dual Core 3855U 1.6GHz'\n",
            " 'Intel Pentium Quad Core N3710 1.6GHz' 'AMD A12-Series 9720P 2.7GHz'\n",
            " 'Intel Core i5 7300U 2.6GHz' 'AMD A12-Series 9720P 3.6GHz'\n",
            " 'Intel Celeron Quad Core N3450 1.1GHz'\n",
            " 'Intel Celeron Dual Core N3060 1.60GHz' 'Intel Core i5 6440HQ 2.6GHz'\n",
            " 'Intel Core i7 6820HQ 2.7GHz' 'AMD Ryzen 1600 3.2GHz'\n",
            " 'Intel Core i7 7Y75 1.3GHz' 'Intel Core i5 7440HQ 2.8GHz'\n",
            " 'Intel Core i7 7660U 2.5GHz' 'Intel Core i7 7700HQ 2.7GHz'\n",
            " 'Intel Core M m3-7Y30 2.2GHz' 'Intel Core i5 7Y57 1.2GHz'\n",
            " 'Intel Core i7 6700HQ 2.6GHz' 'Intel Core i3 6100U 2.3GHz'\n",
            " 'Intel Atom x5-Z8350 1.44GHz' 'AMD A10-Series 9620P 2.5GHz'\n",
            " 'AMD E-Series 7110 1.8GHz' 'Intel Celeron Dual Core N3350 2.0GHz'\n",
            " 'AMD A9-Series A9-9420 3GHz' 'Intel Core i7 6820HK 2.7GHz'\n",
            " 'Intel Core M 7Y30 1.0GHz' 'Intel Xeon E3-1535M v6 3.1GHz'\n",
            " 'Intel Celeron Quad Core N3160 1.6GHz' 'Intel Core i5 6300U 2.4GHz'\n",
            " 'Intel Core i3 6100U 2.1GHz' 'AMD E-Series E2-9000 2.2GHz'\n",
            " 'Intel Celeron Dual Core N3050 1.6GHz' 'Intel Core M M3-6Y30 0.9GHz'\n",
            " 'AMD A9-Series 9420 2.9GHz' 'Intel Core i5 6300HQ 2.3GHz'\n",
            " 'AMD A6-Series 7310 2GHz' 'Intel Atom Z8350 1.92GHz'\n",
            " 'Intel Xeon E3-1535M v5 2.9GHz' 'Intel Core i5 6260U 1.8GHz'\n",
            " 'Intel Pentium Dual Core N4200 1.1GHz'\n",
            " 'Intel Celeron Quad Core N3710 1.6GHz' 'Intel Core M 1.2GHz'\n",
            " 'AMD A12-Series 9700P 2.5GHz' 'Intel Core i7 7500U 2.5GHz'\n",
            " 'Intel Pentium Dual Core 4405U 2.1GHz' 'AMD A4-Series 7210 2.2GHz'\n",
            " 'Intel Core i7 6560U 2.2GHz' 'Intel Core M m7-6Y75 1.2GHz'\n",
            " 'AMD FX 8800P 2.1GHz' 'Intel Core M M7-6Y75 1.2GHz'\n",
            " 'Intel Core i5 7200U 2.50GHz' 'Intel Core i5 7200U 2.70GHz'\n",
            " 'Intel Atom X5-Z8350 1.44GHz' 'Intel Core i5 7200U 2.7GHz'\n",
            " 'Intel Core M 1.1GHz' 'Intel Atom x5-Z8550 1.44GHz'\n",
            " 'Intel Pentium Dual Core 4405Y 1.5GHz'\n",
            " 'Intel Pentium Quad Core N3700 1.6GHz' 'Intel Core M 6Y54 1.1GHz'\n",
            " 'Intel Core i7 6500U 2.50GHz' 'Intel Celeron Dual Core N3350 2GHz'\n",
            " 'Samsung Cortex A72&A53 2.0GHz' 'AMD E-Series 9000 2.2GHz'\n",
            " 'Intel Core M 6Y30 0.9GHz' 'AMD A9-Series 9410 2.9GHz'] :- Cpu\n",
            "****************************************\n",
            "['8GB' '16GB' '4GB' nan '2GB' '12GB' '64GB' '6GB' '32GB' '24GB' '1GB'] :- Ram\n",
            "****************************************\n",
            "['128GB SSD' '128GB Flash Storage' '256GB SSD' '512GB SSD' '500GB HDD'\n",
            " '256GB Flash Storage' '1TB HDD' nan '128GB SSD +  1TB HDD'\n",
            " '256GB SSD +  256GB SSD' '64GB Flash Storage' '32GB Flash Storage'\n",
            " '256GB SSD +  1TB HDD' '256GB SSD +  2TB HDD' '32GB SSD' '2TB HDD'\n",
            " '64GB SSD' '1.0TB Hybrid' '512GB SSD +  1TB HDD' '1TB SSD'\n",
            " '256GB SSD +  500GB HDD' '128GB SSD +  2TB HDD' '512GB SSD +  512GB SSD'\n",
            " '16GB SSD' '16GB Flash Storage' '512GB SSD +  256GB SSD'\n",
            " '512GB SSD +  2TB HDD' '64GB Flash Storage +  1TB HDD' '180GB SSD'\n",
            " '1TB HDD +  1TB HDD' '32GB HDD' '1TB SSD +  1TB HDD' '?'\n",
            " '512GB Flash Storage' '128GB HDD' '240GB SSD' '8GB SSD' '508GB Hybrid'\n",
            " '1.0TB HDD' '512GB SSD +  1.0TB Hybrid' '256GB SSD +  1.0TB Hybrid'] :- Memory\n",
            "****************************************\n",
            "['Intel Iris Plus Graphics 640' 'Intel HD Graphics 6000'\n",
            " 'Intel HD Graphics 620' 'AMD Radeon Pro 455'\n",
            " 'Intel Iris Plus Graphics 650' 'AMD Radeon R5' 'Intel Iris Pro Graphics'\n",
            " 'Nvidia GeForce MX150' 'Intel UHD Graphics 620' 'Intel HD Graphics 520'\n",
            " 'AMD Radeon Pro 555' 'AMD Radeon R5 M430' 'Intel HD Graphics 615'\n",
            " 'AMD Radeon Pro 560' 'Nvidia GeForce 940MX' nan 'Nvidia GeForce GTX 1050'\n",
            " 'AMD Radeon R2' 'AMD Radeon 530' 'Nvidia GeForce 930MX'\n",
            " 'Intel HD Graphics' 'Intel HD Graphics 500' 'Nvidia GeForce 930MX '\n",
            " 'Nvidia GeForce GTX 1060' 'Nvidia GeForce 150MX'\n",
            " 'Intel Iris Graphics 540' 'AMD Radeon RX 580' 'Nvidia GeForce 920MX'\n",
            " 'AMD Radeon R4 Graphics' 'AMD Radeon 520' 'Nvidia GeForce GTX 1070'\n",
            " 'Nvidia GeForce GTX 1050 Ti' 'Intel HD Graphics 400'\n",
            " 'Nvidia GeForce MX130' 'AMD R4 Graphics' 'Nvidia GeForce GTX 940MX'\n",
            " 'AMD Radeon RX 560' 'Nvidia GeForce 920M' 'AMD Radeon R7 M445'\n",
            " 'AMD Radeon RX 550' 'Nvidia GeForce GTX 1050M' 'Intel HD Graphics 515'\n",
            " 'AMD Radeon R5 M420' 'Intel HD Graphics 505' 'Nvidia GTX 980 SLI'\n",
            " 'AMD R17M-M1-70' 'Nvidia GeForce GTX 1080' 'Nvidia Quadro M1200'\n",
            " 'Nvidia GeForce 920MX ' 'Nvidia GeForce GTX 950M' 'AMD FirePro W4190M '\n",
            " 'Nvidia GeForce GTX 980M' 'Intel Iris Graphics 550' 'Nvidia GeForce 930M'\n",
            " 'Intel HD Graphics 630' 'AMD Radeon R5 430' 'Nvidia GeForce GTX 940M'\n",
            " 'Intel HD Graphics 510' 'Intel HD Graphics 405' 'AMD Radeon RX 540'\n",
            " 'Nvidia GeForce GT 940MX' 'AMD FirePro W5130M' 'Nvidia Quadro M2200M'\n",
            " 'AMD Radeon R4' 'Nvidia Quadro M620' 'AMD Radeon R7 M460'\n",
            " 'Intel HD Graphics 530' 'Nvidia GeForce GTX 965M'\n",
            " 'Nvidia GeForce GTX1080' 'Nvidia GeForce GTX1050 Ti'\n",
            " 'Nvidia GeForce GTX 960M' 'AMD Radeon R2 Graphics' 'Nvidia Quadro M620M'\n",
            " 'Nvidia GeForce GTX 970M' 'Nvidia GeForce GTX 960<U+039C>'\n",
            " 'Intel Graphics 620' 'Nvidia GeForce GTX 960' 'AMD Radeon R5 520'\n",
            " 'AMD Radeon R7 M440' 'AMD Radeon R7' 'Nvidia Quadro M520M'\n",
            " 'Nvidia Quadro M2200' 'Nvidia Quadro M2000M' 'Intel HD Graphics 540'\n",
            " 'Nvidia Quadro M1000M' 'AMD Radeon 540' 'Nvidia GeForce GTX 1070M'\n",
            " 'Nvidia GeForce GTX1060' 'Intel HD Graphics 5300' 'AMD Radeon R5 M420X'\n",
            " 'AMD Radeon R7 Graphics' 'Nvidia GeForce 920' 'Nvidia GeForce 940M'\n",
            " 'Nvidia GeForce GTX 930MX' 'AMD Radeon R7 M465' 'AMD Radeon R3'\n",
            " 'Nvidia GeForce GTX 1050Ti' 'AMD Radeon R7 M365X' 'AMD Radeon R9 M385'\n",
            " 'Intel HD Graphics 620 ' 'Nvidia Quadro 3000M' 'Nvidia GeForce GTX 980 '\n",
            " 'AMD Radeon R5 M330' 'AMD FirePro W4190M' 'AMD FirePro W6150M'\n",
            " 'AMD Radeon R5 M315' 'Nvidia Quadro M500M' 'AMD Radeon R7 M360'\n",
            " 'Nvidia Quadro M3000M' 'Nvidia GeForce 960M' 'ARM Mali T860 MP4'] :- Gpu\n",
            "****************************************\n",
            "['macOS' 'No OS' 'Windows 10' 'Mac OS X' nan 'Linux' 'Windows 10 S'\n",
            " 'Chrome OS' 'Windows 7' 'Android'] :- OpSys\n",
            "****************************************\n",
            "['1.37kg' '1.34kg' '1.86kg' '1.83kg' '2.1kg' '2.04kg' '1.3kg' '1.6kg'\n",
            " '2.2kg' '0.92kg' '1.22kg' nan '2.5kg' '1.62kg' '1.91kg' '2.3kg' '1.35kg'\n",
            " '1.88kg' '1.89kg' '1.65kg' '2.71kg' '1.2kg' '1.44kg' '2.8kg' '2kg'\n",
            " '2.65kg' '2.77kg' '3.2kg' '1.49kg' '2.4kg' '2.13kg' '2.43kg' '1.7kg'\n",
            " '1.4kg' '1.8kg' '1.9kg' '3kg' '1.252kg' '2.7kg' '2.02kg' '1.63kg'\n",
            " '1.96kg' '1.21kg' '2.45kg' '1.25kg' '1.5kg' '2.62kg' '1.38kg' '1.58kg'\n",
            " '1.85kg' '1.23kg' '2.16kg' '2.36kg' '7.2kg' '2.05kg' '1.32kg' '1.75kg'\n",
            " '0.97kg' '2.56kg' '1.48kg' '1.74kg' '1.1kg' '1.56kg' '2.03kg' '1.05kg'\n",
            " '5.4kg' '4.4kg' '1.90kg' '1.29kg' '2.0kg' '1.95kg' '2.06kg' '1.12kg'\n",
            " '3.49kg' '3.35kg' '2.23kg' '?' '2.9kg' '4.42kg' '2.69kg' '2.37kg' '4.7kg'\n",
            " '3.6kg' '2.08kg' '4.3kg' '1.68kg' '1.41kg' '4.14kg' '2.18kg' '2.24kg'\n",
            " '2.67kg' '4.1kg' '2.14kg' '1.36kg' '2.25kg' '2.15kg' '2.19kg' '2.54kg'\n",
            " '3.42kg' '5.8kg' '1.28kg' '2.33kg' '1.45kg' '2.79kg' '8.23kg' '1.26kg'\n",
            " '1.84kg' '0.0002kg' '2.6kg' '2.26kg' '3.25kg' '1.59kg' '1.13kg' '1.42kg'\n",
            " '1.78kg' '1.10kg' '1.15kg' '1.27kg' '1.43kg' '2.31kg' '1.16kg' '1.64kg'\n",
            " '2.17kg' '1.47kg' '3.78kg' '1.79kg' '0.91kg' '1.99kg' '4.33kg' '1.93kg'\n",
            " '1.87kg' '2.63kg' '3.4kg' '3.14kg' '1.94kg' '1.24kg' '4.6kg' '4.5kg'\n",
            " '8.4kg' '2.73kg' '1.39kg' '2.29kg' '2.59kg' '2.94kg' '11.1kg' '1.14kg'\n",
            " '3.8kg' '6.2kg' '3.31kg' '1.09kg' '3.21kg' '1.19kg' '1.98kg' '1.17kg'\n",
            " '4.36kg' '1.71kg' '2.32kg' '4.2kg' '1.55kg' '0.81kg' '1.18kg' '2.72kg'\n",
            " '1.31kg' '0.920kg' '3.74kg' '1.76kg' '1.54kg' '2.83kg' '2.07kg' '2.38kg'\n",
            " '3.58kg' '1.08kg' '2.20kg' '0.98kg' '2.75kg' '1.70kg' '2.99kg' '1.11kg'\n",
            " '2.09kg' '4kg' '3.0kg' '0.99kg' '0.69kg' '3.52kg' '2.591kg' '2.21kg'\n",
            " '3.3kg' '2.191kg' '2.34kg' '4.0kg'] :- Weight\n",
            "****************************************\n",
            "[ 71378.6832  47895.5232  30636.     135195.336   96095.808   21312.\n",
            " 114017.6016  61735.536   79653.6     41025.6     20986.992   18381.0672\n",
            " 130001.6016  26581.392   67260.672   80908.344   39693.6    152274.24\n",
            "  26586.72    52161.12           nan  53226.72    13746.24    43636.32\n",
            "  35111.52    22305.1392  58554.72    42624.      69157.44    47738.88\n",
            "  13053.0672  10602.72    23389.92    99580.32    53173.44    13266.72\n",
            "  19553.76    26037.4032  46833.12    20725.92    79866.72    27864.9072\n",
            "  36336.96    75604.32    69210.72    34045.92    24828.48    44808.48\n",
            "  21231.5472  58767.84    20459.52    40908.384   31232.2032 130482.72\n",
            "  22111.2     31914.72    50136.48    36763.2    105654.24    23373.4032\n",
            "  12201.12    29250.72    50562.72    58021.92    50882.4     46353.6\n",
            "  58341.6     27652.32    45554.4     28238.4     52054.56    58403.4048\n",
            "  80452.8     45820.8     21258.72    21045.6     71874.72    37242.72\n",
            "  31914.1872  77202.72    87858.72    36709.92    63776.16    63669.6\n",
            "  55890.72    45128.16    31962.672   25840.8     30742.56    66546.72\n",
            "  38308.32    18594.72    34472.16    59620.32    71395.2     22105.872\n",
            "  63563.04    78854.4     67239.36    73473.12    74538.72    38468.16\n",
            "  86793.12    57755.52    60223.9824  30049.92    59567.04    25521.12\n",
            " 119427.12    33513.12    67718.88    24029.28    43263.36    14811.3072\n",
            "  74378.88    49443.84    34045.3872  23922.72    47099.52    30476.16\n",
            "  31861.44    52640.64    13445.7408  49976.64    34898.4     59461.5456\n",
            "  46300.32    32074.56    19660.32   107305.92    18328.32    23816.16\n",
            "  66560.5728  47898.72    26533.44   100699.2     57648.96    32980.32\n",
            "  70063.2     21471.84    42890.4     38787.84    57489.12    18541.44\n",
            "  95850.72    19367.8128  56502.9072  45501.12    40173.12    16463.52\n",
            "  26053.92    49177.44    24455.52   149130.72    43316.64    98514.72\n",
            "  42251.04    63882.72    82530.72   127712.16    41505.12    52693.92\n",
            "  57808.8     13852.8     53274.672   37189.44    44701.92    48697.92\n",
            " 324954.72    51095.52    55677.6     98301.6     26267.04    39533.76\n",
            "  93186.72   162770.4     74485.44   103842.72    74964.96    49650.5664\n",
            "  31381.92    54931.68    61218.72    68145.12    36089.208   72620.64\n",
            "  42304.32   130873.7952  44328.96    45768.0528  40972.32    47472.48\n",
            "  67612.32    21258.1872  17582.4     45767.52    20779.2    207259.2\n",
            "  45074.88    61005.6     47365.92    52480.8     29783.52   159786.72\n",
            "  35964.     108691.2     24988.32    37402.56    23757.552   56423.52\n",
            " 133146.72    90522.72    60845.76    23656.32    35004.96    30103.2\n",
            "  42570.72    54239.04    46886.4    104370.192   39164.5296  37992.3696\n",
            "  45234.72    22803.84    44169.12    30849.12    50669.28    58448.16\n",
            "  62817.12    35112.0528  63243.36    97449.12    39373.92   153705.3408\n",
            "  78215.04    27119.52   113060.16    34578.72    67399.2     19180.2672\n",
            " 105228.      55571.04   111834.72    14652.      44968.32    24503.472\n",
            "  52214.4     68837.76    58288.32    48058.56    15557.76    55938.672\n",
            "  71128.8    140605.92    50243.04    71075.52    67559.04    60952.32\n",
            "  14651.4672  60885.72    14646.672   38148.48    84129.12    60153.12\n",
            "  14865.12    85672.1088  19980.      35324.64    69477.12    75071.52\n",
            "  92615.0256  74751.84    51729.552   17155.6272  29696.6736  76030.56\n",
            "  50349.6     43103.52    93240.      22697.28   117162.72    46300.8528\n",
            "  26053.3872  29463.84    15238.08    63456.48    21498.48    88178.4\n",
            "  93181.392  121584.96    72940.32   113752.8    133679.52    55357.92\n",
            "  84768.48    36975.7872  41498.1936  65510.9568 144495.36   139860.\n",
            "  16303.68    81465.12    60978.96   119826.72    99793.44    93080.16\n",
            "  89510.4     21791.52    16221.096  102564.     103523.04    42038.4528\n",
            "  31909.392   79920.      28768.536   64755.4464 101178.72    31808.16\n",
            "  61751.52    60867.072  106506.72    15930.72    14332.32    53812.8\n",
            " 130269.6     90309.6     18488.16   126912.96    39906.72    76137.12\n",
            "  23539.104  106187.04    54757.9872 137941.92    81731.52    71661.6\n",
            " 109010.88    34093.872   28984.32    23176.8    111355.2     16197.12\n",
            "  40439.52    98994.24    61485.12    67932.      98133.768   39427.2\n",
            " 128298.24    72673.92    89084.16    31254.048   38681.28    13261.392\n",
            " 124568.64    95797.44   103896.      53918.8272  71928.      47893.392\n",
            "  48538.08    18115.2     32979.7872  85194.72    14119.2     65214.72\n",
            "  32660.64    70489.44    44542.08    64961.1072  74589.336   13053.6\n",
            "  27783.9216 158135.04    80133.12    68184.0144  31168.8     73366.56\n",
            " 160520.3856  42486.0048  39207.1536  42517.44    37589.04    41824.8\n",
            "  24634.008   21152.16    92121.12    59513.2272 143802.72    28992.312\n",
            "  68198.4     11934.72    13586.4     30310.992   32921.712   33566.4\n",
            " 104695.2     52747.2     99153.5472  44222.4     36496.8     99367.2\n",
            " 141884.64   145401.12    39907.2528  53733.9456  81912.1392  15717.6\n",
            " 125154.72    79813.44    89137.44    32447.52    94305.6     32127.84\n",
            "  28185.12   107892.      78534.72    88977.6     93932.64    64948.32\n",
            "  35616.6144  17529.12    24775.2    122490.72   261018.72    46833.6528\n",
            "  23650.992   19127.52    62231.04    74005.92   120831.5808  20193.12\n",
            "  59886.72    78055.2     41345.28    49656.96    12733.92    24935.04\n",
            "  34046.4528 101232.      78801.12    48304.7136  93635.3376 127818.72\n",
            "  59087.52    27753.552  130536.      62284.32    23976.      14598.72\n",
            "  48964.32   138474.72    64628.64    84395.52    37775.52    77250.672\n",
            "  63499.104   19441.872   56689.92    60472.8     63722.88   167691.8736\n",
            "  65481.12    22324.32    28504.8     28717.92    79215.1056  67026.24\n",
            "  21951.36    99519.048   43580.376   55091.52    68944.32    26373.6\n",
            "  53168.112  109277.28   149916.6     32639.8608  29073.2976  30316.32\n",
            "  16943.04   101657.7072 137995.2     51841.44    35644.32   100006.56\n",
            "  22857.12    33110.856   42357.6     98834.4     34898.9328  15877.44\n",
            "  76012.4448  45664.6896  63936.      89864.1792  44574.048  194972.832\n",
            "  71847.0144  26101.872   31409.6256 103096.8     34632.      51148.8\n",
            " 128884.32   111593.8944  21887.424   64308.96    35431.2     81784.8\n",
            " 175770.72    60031.1088 233845.92    25308.      45282.672   83170.08\n",
            " 152859.7872  55837.44    99047.52    83063.52    25059.7152  62938.0656\n",
            "  54345.6    126273.6     33886.08   154458.72    31003.632  191211.264\n",
            " 125208.      93985.92   100752.48    71341.92    10810.512  104961.6\n",
            "  62071.2    124142.4     43156.8    110017.872   39640.32    41558.4\n",
            "  89457.12   128671.2     51202.08    42081.0768  20512.8    133467.4656\n",
            "  40226.4     58075.2     99900.      72354.24    18914.4    292986.72\n",
            "  63190.08    87912.     147832.2864  17316.      31435.2    163723.5792\n",
            "  48484.8     38041.3872  99633.6     32767.2     54665.28   121318.56\n",
            "  46087.2    101391.84    41931.36   136343.52    45323.1648  68464.8\n",
            "  54185.76   119347.2     94731.84    56210.4     73952.64    39160.8\n",
            "  90043.2     49816.8     48618.      90576.      36486.144   24279.696\n",
            "  72988.272   15824.16   141138.72    78588.      49497.12    47952.\n",
            "  32713.92   107257.968  109170.72   104588.1072  79014.24    42037.92\n",
            "  64202.4    165168.      54291.7872  46939.68    59668.8048  36496.2672\n",
            "  69103.6272  97236.      38889.072   37725.4368  15392.592   58874.4\n",
            "  88924.32    29762.208  146946.24    78438.816   94572.      77788.8\n",
            "  79333.3872 168045.12    41292.      93772.8     53759.52    95371.2\n",
            "  45101.52    24808.2336  43956.     167778.72    37029.6    104587.5744\n",
            " 149184.      62870.4    109218.672   53386.56    48751.2     42943.68\n",
            "  63349.92   101658.24    14418.6336  61272.      20246.4    111301.92\n",
            "  67132.8     29144.16    58607.4672  55904.5728  36443.52    81997.92\n",
            "  84715.2    100550.5488  64468.8     41025.0672  79387.2    118761.12\n",
            "  42410.3472  63159.7104  55754.3232  56476.8     86526.72    57542.4\n",
            "  65480.5872  91908.      56633.976   53839.9728  11231.424   75924.\n",
            "  55922.688   53280.     112065.9552  78268.32    82351.6992 122010.6672\n",
            "  15339.312  139593.6    120093.12    37570.392   96916.32    52746.6672\n",
            " 102777.12    77682.24   211788.      42517.9728  70809.12    69264.\n",
            "  25679.8944  91294.7472  28771.2     50083.2    172627.2     34433.2656\n",
            "  39960.      54931.1472  20619.36    20965.1472  18434.3472  43601.688\n",
            "  34035.264   26640.      60480.792   62176.1616  11135.52    75289.968\n",
            "  80516.2032  46193.76    21205.44    40980.312  104908.32   146519.4672\n",
            "  54825.12   118601.28    69929.4672  10442.88    80612.64    27899.0064\n",
            " 100965.6    109244.2464  14811.84    40066.56    32820.48   210424.032\n",
            "  41771.52   115709.2416 130003.2     60888.384  122381.496   53807.472\n",
            " 124621.92    18061.92   119916.2304  25515.2592  79536.384   42010.7472\n",
            " 108744.48    94252.32    25414.0272  74059.2     36177.12    69530.4\n",
            " 114731.5536  87219.36    44275.68    47686.1328  17742.24    48431.52\n",
            "  36816.48    61964.64    70702.56    19607.04   114552.      14492.16\n",
            " 109165.392  142790.4    103842.1872   9270.72    67772.16    78647.1408\n",
            "  91288.3536  78694.56    27804.7008 186426.72    24988.8528  85141.44\n",
            "  25467.84   117119.5632  39267.36    31838.5296  19276.704   46620.\n",
            " 123876.      30529.44    96596.64    17262.72    57116.16    23655.7872\n",
            "  26107.2     47685.6     44382.7728  38841.12    15397.92    29303.4672\n",
            "  42943.1472  38378.6496  33992.64    40705.92  ] :- Price\n",
            "****************************************\n"
          ]
        }
      ]
    },
    {
      "cell_type": "code",
      "source": [
        "for i in data.columns:\n",
        "  print(data[i].value_counts(),':-',i)\n",
        "  print('**'*20)"
      ],
      "metadata": {
        "id": "tHDN6rvHR-5g",
        "outputId": "5a34457c-a8ed-42cf-edaa-a7aceaa583c8",
        "colab": {
          "base_uri": "https://localhost:8080/"
        }
      },
      "execution_count": 17,
      "outputs": [
        {
          "output_type": "stream",
          "name": "stdout",
          "text": [
            "Company\n",
            "Lenovo       290\n",
            "Dell         287\n",
            "HP           266\n",
            "Asus         156\n",
            "Acer         103\n",
            "MSI           53\n",
            "Toshiba       47\n",
            "Apple         21\n",
            "Samsung        9\n",
            "Razer          7\n",
            "Mediacom       7\n",
            "Microsoft      6\n",
            "Xiaomi         4\n",
            "Vero           4\n",
            "Chuwi          3\n",
            "Google         3\n",
            "LG             3\n",
            "Huawei         2\n",
            "Fujitsu        2\n",
            "Name: count, dtype: int64 :- Company\n",
            "****************************************\n",
            "TypeName\n",
            "Notebook              710\n",
            "Gaming                203\n",
            "Ultrabook             191\n",
            "2 in 1 Convertible    116\n",
            "Workstation            29\n",
            "Netbook                24\n",
            "Name: count, dtype: int64 :- TypeName\n",
            "****************************************\n",
            "Inches\n",
            "15.6    640\n",
            "14      192\n",
            "17.3    162\n",
            "13.3    161\n",
            "12.5     38\n",
            "11.6     31\n",
            "12        6\n",
            "13.9      6\n",
            "13.5      5\n",
            "12.3      5\n",
            "15.4      4\n",
            "15        4\n",
            "35.6      3\n",
            "10.1      3\n",
            "24        2\n",
            "13        2\n",
            "18.4      1\n",
            "27.3      1\n",
            "33.5      1\n",
            "?         1\n",
            "31.6      1\n",
            "17        1\n",
            "14.1      1\n",
            "11.3      1\n",
            "25.6      1\n",
            "Name: count, dtype: int64 :- Inches\n",
            "****************************************\n",
            "ScreenResolution\n",
            "Full HD 1920x1080                                495\n",
            "1366x768                                         274\n",
            "IPS Panel Full HD 1920x1080                      226\n",
            "IPS Panel Full HD / Touchscreen 1920x1080         52\n",
            "Full HD / Touchscreen 1920x1080                   45\n",
            "1600x900                                          23\n",
            "Touchscreen 1366x768                              16\n",
            "Quad HD+ / Touchscreen 3200x1800                  14\n",
            "IPS Panel 4K Ultra HD 3840x2160                   12\n",
            "IPS Panel 4K Ultra HD / Touchscreen 3840x2160     11\n",
            "4K Ultra HD / Touchscreen 3840x2160                9\n",
            "4K Ultra HD 3840x2160                              7\n",
            "IPS Panel 1366x768                                 7\n",
            "IPS Panel Retina Display 2560x1600                 6\n",
            "IPS Panel Quad HD+ / Touchscreen 3200x1800         6\n",
            "Touchscreen 2560x1440                              6\n",
            "IPS Panel Retina Display 2304x1440                 6\n",
            "Touchscreen 2256x1504                              6\n",
            "IPS Panel Touchscreen 2560x1440                    5\n",
            "1440x900                                           4\n",
            "IPS Panel 2560x1440                                4\n",
            "IPS Panel Retina Display 2880x1800                 4\n",
            "1920x1080                                          3\n",
            "IPS Panel Touchscreen 1920x1200                    3\n",
            "Quad HD+ 3200x1800                                 3\n",
            "Touchscreen 2400x1600                              3\n",
            "2560x1440                                          3\n",
            "IPS Panel Quad HD+ 2560x1440                       3\n",
            "IPS Panel Touchscreen 1366x768                     3\n",
            "IPS Panel Full HD 2160x1440                        2\n",
            "IPS Panel Touchscreen / 4K Ultra HD 3840x2160      2\n",
            "IPS Panel Quad HD+ 3200x1800                       2\n",
            "IPS Panel Full HD 1920x1200                        1\n",
            "IPS Panel Retina Display 2736x1824                 1\n",
            "IPS Panel Full HD 2560x1440                        1\n",
            "Touchscreen / Full HD 1920x1080                    1\n",
            "IPS Panel Full HD 1366x768                         1\n",
            "Touchscreen / Quad HD+ 3200x1800                   1\n",
            "Touchscreen / 4K Ultra HD 3840x2160                1\n",
            "IPS Panel Touchscreen 2400x1600                    1\n",
            "Name: count, dtype: int64 :- ScreenResolution\n",
            "****************************************\n",
            "Cpu\n",
            "Intel Core i5 7200U 2.5GHz     183\n",
            "Intel Core i7 7700HQ 2.8GHz    142\n",
            "Intel Core i7 7500U 2.7GHz     128\n",
            "Intel Core i7 8550U 1.8GHz      72\n",
            "Intel Core i5 8250U 1.6GHz      68\n",
            "                              ... \n",
            "AMD A9-Series 9420 2.9GHz        1\n",
            "Intel Core i7 2.2GHz             1\n",
            "AMD A6-Series 7310 2GHz          1\n",
            "Intel Atom Z8350 1.92GHz         1\n",
            "AMD E-Series 9000e 1.5GHz        1\n",
            "Name: count, Length: 118, dtype: int64 :- Cpu\n",
            "****************************************\n",
            "Ram\n",
            "8GB     601\n",
            "4GB     367\n",
            "16GB    194\n",
            "6GB      40\n",
            "12GB     25\n",
            "2GB      22\n",
            "32GB     17\n",
            "64GB      3\n",
            "24GB      3\n",
            "1GB       1\n",
            "Name: count, dtype: int64 :- Ram\n",
            "****************************************\n",
            "Memory\n",
            "256GB SSD                        401\n",
            "1TB HDD                          217\n",
            "500GB HDD                        130\n",
            "512GB SSD                        116\n",
            "128GB SSD +  1TB HDD              92\n",
            "128GB SSD                         74\n",
            "256GB SSD +  1TB HDD              71\n",
            "32GB Flash Storage                37\n",
            "2TB HDD                           16\n",
            "64GB Flash Storage                14\n",
            "512GB SSD +  1TB HDD              14\n",
            "1TB SSD                           13\n",
            "256GB SSD +  2TB HDD              10\n",
            "1.0TB Hybrid                       9\n",
            "256GB Flash Storage                8\n",
            "16GB Flash Storage                 7\n",
            "32GB SSD                           6\n",
            "180GB SSD                          4\n",
            "128GB Flash Storage                4\n",
            "512GB SSD +  2TB HDD               3\n",
            "16GB SSD                           3\n",
            "512GB Flash Storage                2\n",
            "1TB SSD +  1TB HDD                 2\n",
            "128GB SSD +  2TB HDD               2\n",
            "256GB SSD +  500GB HDD             2\n",
            "256GB SSD +  256GB SSD             2\n",
            "512GB SSD +  256GB SSD             1\n",
            "512GB SSD +  512GB SSD             1\n",
            "64GB Flash Storage +  1TB HDD      1\n",
            "1TB HDD +  1TB HDD                 1\n",
            "32GB HDD                           1\n",
            "64GB SSD                           1\n",
            "?                                  1\n",
            "128GB HDD                          1\n",
            "240GB SSD                          1\n",
            "8GB SSD                            1\n",
            "508GB Hybrid                       1\n",
            "1.0TB HDD                          1\n",
            "512GB SSD +  1.0TB Hybrid          1\n",
            "256GB SSD +  1.0TB Hybrid          1\n",
            "Name: count, dtype: int64 :- Memory\n",
            "****************************************\n",
            "Gpu\n",
            "Intel HD Graphics 620      271\n",
            "Intel HD Graphics 520      181\n",
            "Intel UHD Graphics 620      66\n",
            "Nvidia GeForce GTX 1050     64\n",
            "Nvidia GeForce GTX 1060     48\n",
            "                          ... \n",
            "AMD Radeon R5 520            1\n",
            "AMD Radeon R7                1\n",
            "Intel HD Graphics 540        1\n",
            "AMD Radeon 540               1\n",
            "ARM Mali T860 MP4            1\n",
            "Name: count, Length: 110, dtype: int64 :- Gpu\n",
            "****************************************\n",
            "OpSys\n",
            "Windows 10      1047\n",
            "No OS             63\n",
            "Linux             61\n",
            "Windows 7         45\n",
            "Chrome OS         27\n",
            "macOS             13\n",
            "Mac OS X           8\n",
            "Windows 10 S       8\n",
            "Android            1\n",
            "Name: count, dtype: int64 :- OpSys\n",
            "****************************************\n",
            "Weight\n",
            "2.2kg     111\n",
            "2.1kg      57\n",
            "2.4kg      43\n",
            "2.3kg      41\n",
            "2.5kg      37\n",
            "         ... \n",
            "1.41kg      1\n",
            "3.6kg       1\n",
            "4.7kg       1\n",
            "4.33kg      1\n",
            "4.0kg       1\n",
            "Name: count, Length: 189, dtype: int64 :- Weight\n",
            "****************************************\n",
            "Price\n",
            "79866.720    14\n",
            "95850.720    14\n",
            "58554.720    14\n",
            "69210.720    11\n",
            "63882.720    11\n",
            "             ..\n",
            "16197.120     1\n",
            "40439.520     1\n",
            "98994.240     1\n",
            "61485.120     1\n",
            "28992.312     1\n",
            "Name: count, Length: 777, dtype: int64 :- Price\n",
            "****************************************\n"
          ]
        }
      ]
    },
    {
      "cell_type": "markdown",
      "source": [
        "## DATA VISUALIZATION"
      ],
      "metadata": {
        "id": "bs55VqBOC7D7"
      }
    },
    {
      "cell_type": "code",
      "source": [
        "# setting graph format\n",
        "plt.rcParams['font.size'] = 9\n",
        "plt.rcParams['figure.figsize'] = (12,5)\n",
        "plt.rcParams['lines.linewidth'] = 2"
      ],
      "metadata": {
        "id": "1WBM8V5cFBAS"
      },
      "execution_count": 18,
      "outputs": []
    },
    {
      "cell_type": "code",
      "source": [
        "# Barplot on Company\n",
        "data['Company'].value_counts().plot(kind = 'bar', cmap= 'Purples_r')\n",
        "plt.title('Company Count')\n",
        "plt.xlabel('Company')\n",
        "plt.ylabel('Count')\n",
        "plt.show()"
      ],
      "metadata": {
        "colab": {
          "base_uri": "https://localhost:8080/",
          "height": 535
        },
        "id": "emyMKsxsvesE",
        "outputId": "a77ecec8-7c93-4105-e297-9b845c169a79"
      },
      "execution_count": 19,
      "outputs": [
        {
          "output_type": "display_data",
          "data": {
            "text/plain": [
              "<Figure size 1200x500 with 1 Axes>"
            ],
            "image/png": "[encoded data removed]"
          },
          "metadata": {}
        }
      ]
    },
    {
      "cell_type": "markdown",
      "source": [
        "Dell and Lenovo has most number of Laptops"
      ],
      "metadata": {
        "id": "RjZiXCr5zbqB"
      }
    },
    {
      "cell_type": "code",
      "source": [
        "# Company vs Price\n",
        "sns.barplot(x=data['Company'],\n",
        "            y= data['Price'],\n",
        "            errorbar=('ci', False),\n",
        "            palette='viridis')\n",
        "plt.xticks(rotation='vertical')\n",
        "plt.title('Company vs Price')\n",
        "plt.show()"
      ],
      "metadata": {
        "colab": {
          "base_uri": "https://localhost:8080/",
          "height": 535
        },
        "id": "UkmRNdyHC29Z",
        "outputId": "55ef06d8-46b1-47f6-e9fb-6b28e6f06843"
      },
      "execution_count": 20,
      "outputs": [
        {
          "output_type": "display_data",
          "data": {
            "text/plain": [
              "<Figure size 1200x500 with 1 Axes>"
            ],
            "image/png": "[encoded data removed]"
          },
          "metadata": {}
        }
      ]
    },
    {
      "cell_type": "markdown",
      "source": [
        "Razer has the most expensive laptop"
      ],
      "metadata": {
        "id": "RvsN-_tMzjwD"
      }
    },
    {
      "cell_type": "code",
      "source": [
        "plt.pie(data['TypeName'].value_counts(),\n",
        "        labels=data['TypeName'].value_counts().index,\n",
        "        autopct='%1.1f%%')\n",
        "plt.title('TypeName')\n",
        "plt.show()"
      ],
      "metadata": {
        "colab": {
          "base_uri": "https://localhost:8080/",
          "height": 442
        },
        "id": "JllcseHv1j-5",
        "outputId": "3f67134c-1752-4d4a-b6f1-38b92317524e"
      },
      "execution_count": 21,
      "outputs": [
        {
          "output_type": "display_data",
          "data": {
            "text/plain": [
              "<Figure size 1200x500 with 1 Axes>"
            ],
            "image/png": "[encoded data removed]"
          },
          "metadata": {}
        }
      ]
    },
    {
      "cell_type": "markdown",
      "source": [
        "Most of the Laptops are Notebook type"
      ],
      "metadata": {
        "id": "PBNL2cNVzsG8"
      }
    },
    {
      "cell_type": "code",
      "source": [
        "# TypeName vs Price\n",
        "sns.lineplot(x=data['TypeName'],\n",
        "             y=data['Price'],\n",
        "             marker='o')\n",
        "plt.title('Price by TypeName')\n",
        "plt.xticks(rotation='vertical')\n",
        "plt.show()"
      ],
      "metadata": {
        "colab": {
          "base_uri": "https://localhost:8080/",
          "height": 581
        },
        "id": "9hBmZoSA26V5",
        "outputId": "96328eb5-5374-4b3d-9274-10514484fa76"
      },
      "execution_count": 22,
      "outputs": [
        {
          "output_type": "display_data",
          "data": {
            "text/plain": [
              "<Figure size 1200x500 with 1 Axes>"
            ],
            "image/png": "[encoded data removed]"
          },
          "metadata": {}
        }
      ]
    },
    {
      "cell_type": "markdown",
      "source": [
        "Workstation has the most expensive laptops"
      ],
      "metadata": {
        "id": "qgt8OCUk0W4v"
      }
    },
    {
      "cell_type": "code",
      "source": [
        "# Inches vs price\n",
        "sns.barplot(data=data,\n",
        "                x='Inches',\n",
        "                y='Price',\n",
        "                errorbar=('ci', False),\n",
        "                palette='plasma')\n",
        "plt.title('Inches vs. Price')\n",
        "plt.xlabel('Inches')\n",
        "plt.ylabel('Price')\n",
        "plt.xticks(rotation=90)\n",
        "plt.show()"
      ],
      "metadata": {
        "colab": {
          "base_uri": "https://localhost:8080/",
          "height": 498
        },
        "id": "NCpoFz85DHaK",
        "outputId": "49fe0a49-e748-4011-9684-fdb36f2276da"
      },
      "execution_count": 23,
      "outputs": [
        {
          "output_type": "display_data",
          "data": {
            "text/plain": [
              "<Figure size 1200x500 with 1 Axes>"
            ],
            "image/png": "[encoded data removed]"
          },
          "metadata": {}
        }
      ]
    },
    {
      "cell_type": "markdown",
      "source": [
        "Laptops of inch 18.4 has the highest price"
      ],
      "metadata": {
        "id": "3DNCkaig2SNf"
      }
    },
    {
      "cell_type": "code",
      "source": [
        "sns.FacetGrid(data, hue='TypeName', height=7).map(plt.scatter, 'Inches', 'Price').add_legend()\n",
        "plt.title('Inches vs Price')\n",
        "plt.show()"
      ],
      "metadata": {
        "colab": {
          "base_uri": "https://localhost:8080/",
          "height": 730
        },
        "id": "ti2ZvTBDJOiw",
        "outputId": "1c755454-5010-4579-a6f2-35a59d7cbf52"
      },
      "execution_count": 24,
      "outputs": [
        {
          "output_type": "display_data",
          "data": {
            "text/plain": [
              "<Figure size 856.125x700 with 1 Axes>"
            ],
            "image/png": "[encoded data removed]"
          },
          "metadata": {}
        }
      ]
    },
    {
      "cell_type": "code",
      "source": [
        "sns.barplot(data=data,\n",
        "            x='Price',\n",
        "            hue='OpSys',\n",
        "            errorbar=('ci', False))\n",
        "plt.title('Price by OpSys')\n",
        "plt.xlabel('Price')\n",
        "plt.ylabel('OpSys')\n",
        "plt.show()"
      ],
      "metadata": {
        "colab": {
          "base_uri": "https://localhost:8080/",
          "height": 483
        },
        "id": "131xa_jRYGg6",
        "outputId": "c69f8f77-e556-4423-d7db-bcd991d3fbb7"
      },
      "execution_count": 25,
      "outputs": [
        {
          "output_type": "display_data",
          "data": {
            "text/plain": [
              "<Figure size 1200x500 with 1 Axes>"
            ],
            "image/png": "[encoded data removed]"
          },
          "metadata": {}
        }
      ]
    },
    {
      "cell_type": "markdown",
      "source": [
        "Macos and Windows 7 has maximum price"
      ],
      "metadata": {
        "id": "LsNKLSr3aeTa"
      }
    },
    {
      "cell_type": "code",
      "source": [
        "# Top 10 Price range\n",
        "explode = [0.1,0.1,0.1,0,0,0,0,0,0,0]\n",
        "data['Price'].value_counts()\n",
        "top10_price = data['Price'].value_counts().head(10)\n",
        "plt.pie(top10_price,\n",
        "        labels=top10_price.index,\n",
        "        explode=explode,\n",
        "        autopct='%1.1f%%')\n",
        "plt.title('Top 10 Price')\n",
        "plt.show()"
      ],
      "metadata": {
        "colab": {
          "base_uri": "https://localhost:8080/",
          "height": 442
        },
        "id": "HcFFXiEAFMLp",
        "outputId": "4f7f506e-639a-4946-9dab-35b355caa95e"
      },
      "execution_count": 26,
      "outputs": [
        {
          "output_type": "display_data",
          "data": {
            "text/plain": [
              "<Figure size 1200x500 with 1 Axes>"
            ],
            "image/png": "[encoded data removed]"
          },
          "metadata": {}
        }
      ]
    },
    {
      "cell_type": "markdown",
      "source": [
        "Here we know top 3 common price range on laptops"
      ],
      "metadata": {
        "id": "OkDNvL0kaHqG"
      }
    },
    {
      "cell_type": "markdown",
      "source": [
        "## FEATURE ENGINEERING"
      ],
      "metadata": {
        "id": "IFRcDQ4ZCoJv"
      }
    },
    {
      "cell_type": "code",
      "source": [
        "data['Weight'] = data['Weight'].str.replace('kg','')\n",
        "data.loc[data.Weight=='?','Weight']=np.NaN\n",
        "data.loc[data.Inches=='?','Inches']=np.NaN\n",
        "data['Weight'] = data['Weight'].astype(float)\n",
        "data['Inches'] = data['Inches'].astype(float)\n",
        "\n",
        "data['Ram'] = data['Ram'].str.replace('GB','')\n",
        "data['Ram'] = data['Ram'].astype(float)"
      ],
      "metadata": {
        "id": "BtQERNUDTI_g"
      },
      "execution_count": 27,
      "outputs": []
    },
    {
      "cell_type": "code",
      "source": [
        "data = data.dropna()"
      ],
      "metadata": {
        "id": "_jsA_pTZT6Sn"
      },
      "execution_count": 28,
      "outputs": []
    },
    {
      "cell_type": "code",
      "source": [
        "data.info()"
      ],
      "metadata": {
        "id": "uCKCk5gsTyRB",
        "outputId": "8d2e3a13-470a-462c-e918-9b88d294b3c3",
        "colab": {
          "base_uri": "https://localhost:8080/"
        }
      },
      "execution_count": 29,
      "outputs": [
        {
          "output_type": "stream",
          "name": "stdout",
          "text": [
            "<class 'pandas.core.frame.DataFrame'>\n",
            "Index: 1271 entries, 0 to 1302\n",
            "Data columns (total 11 columns):\n",
            " #   Column            Non-Null Count  Dtype  \n",
            "---  ------            --------------  -----  \n",
            " 0   Company           1271 non-null   object \n",
            " 1   TypeName          1271 non-null   object \n",
            " 2   Inches            1271 non-null   float64\n",
            " 3   ScreenResolution  1271 non-null   object \n",
            " 4   Cpu               1271 non-null   object \n",
            " 5   Ram               1271 non-null   float64\n",
            " 6   Memory            1271 non-null   object \n",
            " 7   Gpu               1271 non-null   object \n",
            " 8   OpSys             1271 non-null   object \n",
            " 9   Weight            1271 non-null   float64\n",
            " 10  Price             1271 non-null   float64\n",
            "dtypes: float64(4), object(7)\n",
            "memory usage: 119.2+ KB\n"
          ]
        }
      ]
    },
    {
      "cell_type": "code",
      "source": [
        "data.isnull().any()"
      ],
      "metadata": {
        "id": "1MSB5yZMUBGC",
        "outputId": "8082bfe3-70b6-4927-8c64-745cbfc2734e",
        "colab": {
          "base_uri": "https://localhost:8080/"
        }
      },
      "execution_count": 30,
      "outputs": [
        {
          "output_type": "execute_result",
          "data": {
            "text/plain": [
              "Company             False\n",
              "TypeName            False\n",
              "Inches              False\n",
              "ScreenResolution    False\n",
              "Cpu                 False\n",
              "Ram                 False\n",
              "Memory              False\n",
              "Gpu                 False\n",
              "OpSys               False\n",
              "Weight              False\n",
              "Price               False\n",
              "dtype: bool"
            ]
          },
          "metadata": {},
          "execution_count": 30
        }
      ]
    },
    {
      "cell_type": "markdown",
      "source": [
        "**Touch Screen Column**"
      ],
      "metadata": {
        "id": "_2i_gfIl5TTt"
      }
    },
    {
      "cell_type": "code",
      "source": [
        "# 0 - not Touch Screen, 1 - Touch Screen\n",
        "data['TouchScreen'] = data['ScreenResolution'].apply(lambda x :1 if 'Touchscreen' in x else 0)\n",
        "data['TouchScreen'].value_counts()"
      ],
      "metadata": {
        "colab": {
          "base_uri": "https://localhost:8080/"
        },
        "id": "yAFmr1ot36Tl",
        "outputId": "24801bb2-3546-4d44-9428-74dae41d9dae"
      },
      "execution_count": 31,
      "outputs": [
        {
          "output_type": "execute_result",
          "data": {
            "text/plain": [
              "TouchScreen\n",
              "0    1086\n",
              "1     185\n",
              "Name: count, dtype: int64"
            ]
          },
          "metadata": {},
          "execution_count": 31
        }
      ]
    },
    {
      "cell_type": "markdown",
      "source": [
        "**IPS Panel column**"
      ],
      "metadata": {
        "id": "nNW11pd55dEh"
      }
    },
    {
      "cell_type": "code",
      "source": [
        "# 1 - For IPS Display, 0 - Not IPS Display\n",
        "data['IPS Panel'] = data['ScreenResolution'].apply(lambda x:1 if 'IPS Panel' in x else 0)\n",
        "data['IPS Panel'].value_counts()"
      ],
      "metadata": {
        "colab": {
          "base_uri": "https://localhost:8080/"
        },
        "id": "nJcEdlak5eln",
        "outputId": "db369285-b423-4f76-c5b5-e4795a2fc360"
      },
      "execution_count": 32,
      "outputs": [
        {
          "output_type": "execute_result",
          "data": {
            "text/plain": [
              "IPS Panel\n",
              "0    912\n",
              "1    359\n",
              "Name: count, dtype: int64"
            ]
          },
          "metadata": {},
          "execution_count": 32
        }
      ]
    },
    {
      "cell_type": "markdown",
      "source": [
        "**HD Column**"
      ],
      "metadata": {
        "id": "lJZdkf3B7146"
      }
    },
    {
      "cell_type": "code",
      "source": [
        "def categorize_resolution(resolution):\n",
        "    if 'Full HD' in resolution:\n",
        "        return 'Full HD'\n",
        "    elif 'Quad HD+' in resolution:\n",
        "        return 'Quad HD+'\n",
        "    elif '4K Ultra HD' in resolution:\n",
        "        return '4K Ultra HD'\n",
        "    else:\n",
        "        return 0"
      ],
      "metadata": {
        "id": "kJBX73sD74HE"
      },
      "execution_count": 33,
      "outputs": []
    },
    {
      "cell_type": "code",
      "source": [
        "data['HD'] = data['ScreenResolution'].apply(categorize_resolution)\n",
        "data['HD'].value_counts()"
      ],
      "metadata": {
        "colab": {
          "base_uri": "https://localhost:8080/"
        },
        "id": "LyneaUq_QHa_",
        "outputId": "8d9d0c9c-9e9d-4707-e03c-09d966323a14"
      },
      "execution_count": 34,
      "outputs": [
        {
          "output_type": "execute_result",
          "data": {
            "text/plain": [
              "HD\n",
              "Full HD        822\n",
              "0              378\n",
              "4K Ultra HD     42\n",
              "Quad HD+        29\n",
              "Name: count, dtype: int64"
            ]
          },
          "metadata": {},
          "execution_count": 34
        }
      ]
    },
    {
      "cell_type": "markdown",
      "source": [
        "**Pixel Per Inches Column**"
      ],
      "metadata": {
        "id": "sdrUD8tB7rP4"
      }
    },
    {
      "cell_type": "code",
      "source": [
        "data['ScreenResolution'] = data['ScreenResolution'].str.split(' ').apply(lambda x:x[-1])\n",
        "data['ScreenWidth'] = data['ScreenResolution'].str.split('x').apply(lambda x:x[0]).astype(float)\n",
        "data['ScreenHeight'] = data['ScreenResolution'].str.split('x').apply(lambda x:x[1]).astype(float)"
      ],
      "metadata": {
        "id": "yFOa9WW584Ak"
      },
      "execution_count": 35,
      "outputs": []
    },
    {
      "cell_type": "code",
      "source": [
        "data['PPI'] = (((data['ScreenWidth']**2) + (data['ScreenHeight']**2))**0.5/data['Inches']).astype('float')"
      ],
      "metadata": {
        "id": "m-xYnBMq8hNa"
      },
      "execution_count": 36,
      "outputs": []
    },
    {
      "cell_type": "markdown",
      "source": [
        "**CPU Brand column**"
      ],
      "metadata": {
        "id": "t16LByWhevcU"
      }
    },
    {
      "cell_type": "code",
      "source": [
        "data['Cpu Name'] = data['Cpu'].apply(lambda x:\" \".join(x.split()[0:3]))"
      ],
      "metadata": {
        "id": "jE89Dh4gI44P"
      },
      "execution_count": 37,
      "outputs": []
    },
    {
      "cell_type": "code",
      "source": [
        "def fetch_processor(text):\n",
        "    if text == 'Intel Core i7' or text == 'Intel Core i5' or text == 'Intel Core i3' or text =='Samsung Cortex A72&A53':\n",
        "        return text\n",
        "    else:\n",
        "        if text.split()[0] == 'Intel':\n",
        "            return 'Other Intel Processor'\n",
        "        else:\n",
        "            return 'AMD Processor'"
      ],
      "metadata": {
        "id": "Qc_5D8eahTk_"
      },
      "execution_count": 38,
      "outputs": []
    },
    {
      "cell_type": "code",
      "source": [
        "data['Cpu brand'] = data['Cpu Name'].apply(fetch_processor)"
      ],
      "metadata": {
        "id": "TvvwklK6jHFw"
      },
      "execution_count": 39,
      "outputs": []
    },
    {
      "cell_type": "markdown",
      "source": [
        "**GPU Brand column**"
      ],
      "metadata": {
        "id": "Asy7UzxfpgBp"
      }
    },
    {
      "cell_type": "code",
      "source": [
        "data['Gpu'].value_counts()"
      ],
      "metadata": {
        "colab": {
          "base_uri": "https://localhost:8080/"
        },
        "id": "9SuKMWujpq92",
        "outputId": "2913b418-6566-46c5-dc2f-e18b1fd6388c"
      },
      "execution_count": 42,
      "outputs": [
        {
          "output_type": "execute_result",
          "data": {
            "text/plain": [
              "Gpu\n",
              "Intel HD Graphics 620      271\n",
              "Intel HD Graphics 520      181\n",
              "Intel UHD Graphics 620      65\n",
              "Nvidia GeForce GTX 1050     64\n",
              "Nvidia GeForce GTX 1060     48\n",
              "                          ... \n",
              "AMD Radeon R5 520            1\n",
              "AMD Radeon R7                1\n",
              "Intel HD Graphics 540        1\n",
              "AMD Radeon 540               1\n",
              "ARM Mali T860 MP4            1\n",
              "Name: count, Length: 110, dtype: int64"
            ]
          },
          "metadata": {},
          "execution_count": 42
        }
      ]
    },
    {
      "cell_type": "code",
      "source": [
        "data['Gpu brand'] = data['Gpu'].apply(lambda x:x.split()[0])\n",
        "data['Gpu brand'].value_counts()"
      ],
      "metadata": {
        "colab": {
          "base_uri": "https://localhost:8080/"
        },
        "id": "-vOVerqhqClR",
        "outputId": "c19b14ac-14d6-4a91-9e49-afb9efea448d"
      },
      "execution_count": 43,
      "outputs": [
        {
          "output_type": "execute_result",
          "data": {
            "text/plain": [
              "Gpu brand\n",
              "Intel     702\n",
              "Nvidia    392\n",
              "AMD       176\n",
              "ARM         1\n",
              "Name: count, dtype: int64"
            ]
          },
          "metadata": {},
          "execution_count": 43
        }
      ]
    },
    {
      "cell_type": "markdown",
      "source": [
        "Remove unnecessary columns"
      ],
      "metadata": {
        "id": "ARTSqrYvrMXo"
      }
    },
    {
      "cell_type": "code",
      "source": [
        "data.drop(['ScreenResolution', 'Cpu','Memory', 'Gpu','ScreenWidth', 'ScreenHeight','First', 'Second','Cpu Name'], axis=1, inplace=True)"
      ],
      "metadata": {
        "id": "c3gqlKY9rV1v"
      },
      "execution_count": 45,
      "outputs": []
    },
    {
      "cell_type": "code",
      "source": [
        "# encoding\n",
        "categorical_features = ['Company', 'TypeName', 'OpSys', 'HD', 'Cpu brand', 'Gpu brand']\n",
        "data = pd.get_dummies(data, columns=categorical_features).astype(int)"
      ],
      "metadata": {
        "id": "cgVp2qjIWBKR"
      },
      "execution_count": 46,
      "outputs": []
    },
    {
      "cell_type": "code",
      "source": [
        "# select features that are greater than the threshold\n",
        "cor_target = abs(data.corr()['Price'])\n",
        "relevant_features = cor_target[cor_target>0.1].index\n",
        "correlated_data = data[relevant_features]\n",
        "correlated_data.head()"
      ],
      "metadata": {
        "colab": {
          "base_uri": "https://localhost:8080/",
          "height": 308
        },
        "id": "TQQC-Yye5f0R",
        "outputId": "41df43b6-055a-437c-ca1a-be1756ef0244"
      },
      "execution_count": 47,
      "outputs": [
        {
          "output_type": "execute_result",
          "data": {
            "text/plain": [
              "   Ram  Weight   Price  TouchScreen  IPS Panel  PPI  Company_Acer  \\\n",
              "0    8       1   71378            0          1  226             0   \n",
              "1    8       1   47895            0          0  127             0   \n",
              "2    8       1   30636            0          0  141             0   \n",
              "3   16       1  135195            0          1  220             0   \n",
              "4    8       1   96095            0          1  226             0   \n",
              "\n",
              "   Company_MSI  Company_Razer  TypeName_Gaming  ...  HD_Full HD  HD_Quad HD+  \\\n",
              "0            0              0                0  ...           0            0   \n",
              "1            0              0                0  ...           0            0   \n",
              "2            0              0                0  ...           1            0   \n",
              "3            0              0                0  ...           0            0   \n",
              "4            0              0                0  ...           0            0   \n",
              "\n",
              "   Cpu brand_AMD Processor  Cpu brand_Intel Core i3  Cpu brand_Intel Core i5  \\\n",
              "0                        0                        0                        1   \n",
              "1                        0                        0                        1   \n",
              "2                        0                        0                        1   \n",
              "3                        0                        0                        0   \n",
              "4                        0                        0                        1   \n",
              "\n",
              "   Cpu brand_Intel Core i7  Cpu brand_Other Intel Processor  Gpu brand_AMD  \\\n",
              "0                        0                                0              0   \n",
              "1                        0                                0              0   \n",
              "2                        0                                0              0   \n",
              "3                        1                                0              1   \n",
              "4                        0                                0              0   \n",
              "\n",
              "   Gpu brand_Intel  Gpu brand_Nvidia  \n",
              "0                1                 0  \n",
              "1                1                 0  \n",
              "2                1                 0  \n",
              "3                0                 0  \n",
              "4                1                 0  \n",
              "\n",
              "[5 rows x 30 columns]"
            ],
            "text/html": [
              "\n",
              "  <div id=\"df-0eab2d05-0c5a-455f-90b9-c5fd4c621ed9\" class=\"colab-df-container\">\n",
              "    <div>\n",
              "<style scoped>\n",
              "    .dataframe tbody tr th:only-of-type {\n",
              "        vertical-align: middle;\n",
              "    }\n",
              "\n",
              "    .dataframe tbody tr th {\n",
              "        vertical-align: top;\n",
              "    }\n",
              "\n",
              "    .dataframe thead th {\n",
              "        text-align: right;\n",
              "    }\n",
              "</style>\n",
              "<table border=\"1\" class=\"dataframe\">\n",
              "  <thead>\n",
              "    <tr style=\"text-align: right;\">\n",
              "      <th></th>\n",
              "      <th>Ram</th>\n",
              "      <th>Weight</th>\n",
              "      <th>Price</th>\n",
              "      <th>TouchScreen</th>\n",
              "      <th>IPS Panel</th>\n",
              "      <th>PPI</th>\n",
              "      <th>Company_Acer</th>\n",
              "      <th>Company_MSI</th>\n",
              "      <th>Company_Razer</th>\n",
              "      <th>TypeName_Gaming</th>\n",
              "      <th>...</th>\n",
              "      <th>HD_Full HD</th>\n",
              "      <th>HD_Quad HD+</th>\n",
              "      <th>Cpu brand_AMD Processor</th>\n",
              "      <th>Cpu brand_Intel Core i3</th>\n",
              "      <th>Cpu brand_Intel Core i5</th>\n",
              "      <th>Cpu brand_Intel Core i7</th>\n",
              "      <th>Cpu brand_Other Intel Processor</th>\n",
              "      <th>Gpu brand_AMD</th>\n",
              "      <th>Gpu brand_Intel</th>\n",
              "      <th>Gpu brand_Nvidia</th>\n",
              "    </tr>\n",
              "  </thead>\n",
              "  <tbody>\n",
              "    <tr>\n",
              "      <th>0</th>\n",
              "      <td>8</td>\n",
              "      <td>1</td>\n",
              "      <td>71378</td>\n",
              "      <td>0</td>\n",
              "      <td>1</td>\n",
              "      <td>226</td>\n",
              "      <td>0</td>\n",
              "      <td>0</td>\n",
              "      <td>0</td>\n",
              "      <td>0</td>\n",
              "      <td>...</td>\n",
              "      <td>0</td>\n",
              "      <td>0</td>\n",
              "      <td>0</td>\n",
              "      <td>0</td>\n",
              "      <td>1</td>\n",
              "      <td>0</td>\n",
              "      <td>0</td>\n",
              "      <td>0</td>\n",
              "      <td>1</td>\n",
              "      <td>0</td>\n",
              "    </tr>\n",
              "    <tr>\n",
              "      <th>1</th>\n",
              "      <td>8</td>\n",
              "      <td>1</td>\n",
              "      <td>47895</td>\n",
              "      <td>0</td>\n",
              "      <td>0</td>\n",
              "      <td>127</td>\n",
              "      <td>0</td>\n",
              "      <td>0</td>\n",
              "      <td>0</td>\n",
              "      <td>0</td>\n",
              "      <td>...</td>\n",
              "      <td>0</td>\n",
              "      <td>0</td>\n",
              "      <td>0</td>\n",
              "      <td>0</td>\n",
              "      <td>1</td>\n",
              "      <td>0</td>\n",
              "      <td>0</td>\n",
              "      <td>0</td>\n",
              "      <td>1</td>\n",
              "      <td>0</td>\n",
              "    </tr>\n",
              "    <tr>\n",
              "      <th>2</th>\n",
              "      <td>8</td>\n",
              "      <td>1</td>\n",
              "      <td>30636</td>\n",
              "      <td>0</td>\n",
              "      <td>0</td>\n",
              "      <td>141</td>\n",
              "      <td>0</td>\n",
              "      <td>0</td>\n",
              "      <td>0</td>\n",
              "      <td>0</td>\n",
              "      <td>...</td>\n",
              "      <td>1</td>\n",
              "      <td>0</td>\n",
              "      <td>0</td>\n",
              "      <td>0</td>\n",
              "      <td>1</td>\n",
              "      <td>0</td>\n",
              "      <td>0</td>\n",
              "      <td>0</td>\n",
              "      <td>1</td>\n",
              "      <td>0</td>\n",
              "    </tr>\n",
              "    <tr>\n",
              "      <th>3</th>\n",
              "      <td>16</td>\n",
              "      <td>1</td>\n",
              "      <td>135195</td>\n",
              "      <td>0</td>\n",
              "      <td>1</td>\n",
              "      <td>220</td>\n",
              "      <td>0</td>\n",
              "      <td>0</td>\n",
              "      <td>0</td>\n",
              "      <td>0</td>\n",
              "      <td>...</td>\n",
              "      <td>0</td>\n",
              "      <td>0</td>\n",
              "      <td>0</td>\n",
              "      <td>0</td>\n",
              "      <td>0</td>\n",
              "      <td>1</td>\n",
              "      <td>0</td>\n",
              "      <td>1</td>\n",
              "      <td>0</td>\n",
              "      <td>0</td>\n",
              "    </tr>\n",
              "    <tr>\n",
              "      <th>4</th>\n",
              "      <td>8</td>\n",
              "      <td>1</td>\n",
              "      <td>96095</td>\n",
              "      <td>0</td>\n",
              "      <td>1</td>\n",
              "      <td>226</td>\n",
              "      <td>0</td>\n",
              "      <td>0</td>\n",
              "      <td>0</td>\n",
              "      <td>0</td>\n",
              "      <td>...</td>\n",
              "      <td>0</td>\n",
              "      <td>0</td>\n",
              "      <td>0</td>\n",
              "      <td>0</td>\n",
              "      <td>1</td>\n",
              "      <td>0</td>\n",
              "      <td>0</td>\n",
              "      <td>0</td>\n",
              "      <td>1</td>\n",
              "      <td>0</td>\n",
              "    </tr>\n",
              "  </tbody>\n",
              "</table>\n",
              "<p>5 rows × 30 columns</p>\n",
              "</div>\n",
              "    <div class=\"colab-df-buttons\">\n",
              "\n",
              "  <div class=\"colab-df-container\">\n",
              "    <button class=\"colab-df-convert\" onclick=\"convertToInteractive('df-0eab2d05-0c5a-455f-90b9-c5fd4c621ed9')\"\n",
              "            title=\"Convert this dataframe to an interactive table.\"\n",
              "            style=\"display:none;\">\n",
              "\n",
              "  <svg xmlns=\"http://www.w3.org/2000/svg\" height=\"24px\" viewBox=\"0 -960 960 960\">\n",
              "    <path d=\"M120-120v-720h720v720H120Zm60-500h600v-160H180v160Zm220 220h160v-160H400v160Zm0 220h160v-160H400v160ZM180-400h160v-160H180v160Zm440 0h160v-160H620v160ZM180-180h160v-160H180v160Zm440 0h160v-160H620v160Z\"/>\n",
              "  </svg>\n",
              "    </button>\n",
              "\n",
              "  <style>\n",
              "    .colab-df-container {\n",
              "      display:flex;\n",
              "      gap: 12px;\n",
              "    }\n",
              "\n",
              "    .colab-df-convert {\n",
              "      background-color: #E8F0FE;\n",
              "      border: none;\n",
              "      border-radius: 50%;\n",
              "      cursor: pointer;\n",
              "      display: none;\n",
              "      fill: #1967D2;\n",
              "      height: 32px;\n",
              "      padding: 0 0 0 0;\n",
              "      width: 32px;\n",
              "    }\n",
              "\n",
              "    .colab-df-convert:hover {\n",
              "      background-color: #E2EBFA;\n",
              "      box-shadow: 0px 1px 2px rgba(60, 64, 67, 0.3), 0px 1px 3px 1px rgba(60, 64, 67, 0.15);\n",
              "      fill: #174EA6;\n",
              "    }\n",
              "\n",
              "    .colab-df-buttons div {\n",
              "      margin-bottom: 4px;\n",
              "    }\n",
              "\n",
              "    [theme=dark] .colab-df-convert {\n",
              "      background-color: #3B4455;\n",
              "      fill: #D2E3FC;\n",
              "    }\n",
              "\n",
              "    [theme=dark] .colab-df-convert:hover {\n",
              "      background-color: #434B5C;\n",
              "      box-shadow: 0px 1px 3px 1px rgba(0, 0, 0, 0.15);\n",
              "      filter: drop-shadow(0px 1px 2px rgba(0, 0, 0, 0.3));\n",
              "      fill: #FFFFFF;\n",
              "    }\n",
              "  </style>\n",
              "\n",
              "    <script>\n",
              "      const buttonEl =\n",
              "        document.querySelector('#df-0eab2d05-0c5a-455f-90b9-c5fd4c621ed9 button.colab-df-convert');\n",
              "      buttonEl.style.display =\n",
              "        google.colab.kernel.accessAllowed ? 'block' : 'none';\n",
              "\n",
              "      async function convertToInteractive(key) {\n",
              "        const element = document.querySelector('#df-0eab2d05-0c5a-455f-90b9-c5fd4c621ed9');\n",
              "        const dataTable =\n",
              "          await google.colab.kernel.invokeFunction('convertToInteractive',\n",
              "                                                    [key], {});\n",
              "        if (!dataTable) return;\n",
              "\n",
              "        const docLinkHtml = 'Like what you see? Visit the ' +\n",
              "          '<a target=\"_blank\" href=https://colab.research.google.com/notebooks/data_table.ipynb>data table notebook</a>'\n",
              "          + ' to learn more about interactive tables.';\n",
              "        element.innerHTML = '';\n",
              "        dataTable['output_type'] = 'display_data';\n",
              "        await google.colab.output.renderOutput(dataTable, element);\n",
              "        const docLink = document.createElement('div');\n",
              "        docLink.innerHTML = docLinkHtml;\n",
              "        element.appendChild(docLink);\n",
              "      }\n",
              "    </script>\n",
              "  </div>\n",
              "\n",
              "\n",
              "<div id=\"df-907554f6-35cb-4889-9906-9e9690480736\">\n",
              "  <button class=\"colab-df-quickchart\" onclick=\"quickchart('df-907554f6-35cb-4889-9906-9e9690480736')\"\n",
              "            title=\"Suggest charts\"\n",
              "            style=\"display:none;\">\n",
              "\n",
              "<svg xmlns=\"http://www.w3.org/2000/svg\" height=\"24px\"viewBox=\"0 0 24 24\"\n",
              "     width=\"24px\">\n",
              "    <g>\n",
              "        <path d=\"M19 3H5c-1.1 0-2 .9-2 2v14c0 1.1.9 2 2 2h14c1.1 0 2-.9 2-2V5c0-1.1-.9-2-2-2zM9 17H7v-7h2v7zm4 0h-2V7h2v10zm4 0h-2v-4h2v4z\"/>\n",
              "    </g>\n",
              "</svg>\n",
              "  </button>\n",
              "\n",
              "<style>\n",
              "  .colab-df-quickchart {\n",
              "      --bg-color: #E8F0FE;\n",
              "      --fill-color: #1967D2;\n",
              "      --hover-bg-color: #E2EBFA;\n",
              "      --hover-fill-color: #174EA6;\n",
              "      --disabled-fill-color: #AAA;\n",
              "      --disabled-bg-color: #DDD;\n",
              "  }\n",
              "\n",
              "  [theme=dark] .colab-df-quickchart {\n",
              "      --bg-color: #3B4455;\n",
              "      --fill-color: #D2E3FC;\n",
              "      --hover-bg-color: #434B5C;\n",
              "      --hover-fill-color: #FFFFFF;\n",
              "      --disabled-bg-color: #3B4455;\n",
              "      --disabled-fill-color: #666;\n",
              "  }\n",
              "\n",
              "  .colab-df-quickchart {\n",
              "    background-color: var(--bg-color);\n",
              "    border: none;\n",
              "    border-radius: 50%;\n",
              "    cursor: pointer;\n",
              "    display: none;\n",
              "    fill: var(--fill-color);\n",
              "    height: 32px;\n",
              "    padding: 0;\n",
              "    width: 32px;\n",
              "  }\n",
              "\n",
              "  .colab-df-quickchart:hover {\n",
              "    background-color: var(--hover-bg-color);\n",
              "    box-shadow: 0 1px 2px rgba(60, 64, 67, 0.3), 0 1px 3px 1px rgba(60, 64, 67, 0.15);\n",
              "    fill: var(--button-hover-fill-color);\n",
              "  }\n",
              "\n",
              "  .colab-df-quickchart-complete:disabled,\n",
              "  .colab-df-quickchart-complete:disabled:hover {\n",
              "    background-color: var(--disabled-bg-color);\n",
              "    fill: var(--disabled-fill-color);\n",
              "    box-shadow: none;\n",
              "  }\n",
              "\n",
              "  .colab-df-spinner {\n",
              "    border: 2px solid var(--fill-color);\n",
              "    border-color: transparent;\n",
              "    border-bottom-color: var(--fill-color);\n",
              "    animation:\n",
              "      spin 1s steps(1) infinite;\n",
              "  }\n",
              "\n",
              "  @keyframes spin {\n",
              "    0% {\n",
              "      border-color: transparent;\n",
              "      border-bottom-color: var(--fill-color);\n",
              "      border-left-color: var(--fill-color);\n",
              "    }\n",
              "    20% {\n",
              "      border-color: transparent;\n",
              "      border-left-color: var(--fill-color);\n",
              "      border-top-color: var(--fill-color);\n",
              "    }\n",
              "    30% {\n",
              "      border-color: transparent;\n",
              "      border-left-color: var(--fill-color);\n",
              "      border-top-color: var(--fill-color);\n",
              "      border-right-color: var(--fill-color);\n",
              "    }\n",
              "    40% {\n",
              "      border-color: transparent;\n",
              "      border-right-color: var(--fill-color);\n",
              "      border-top-color: var(--fill-color);\n",
              "    }\n",
              "    60% {\n",
              "      border-color: transparent;\n",
              "      border-right-color: var(--fill-color);\n",
              "    }\n",
              "    80% {\n",
              "      border-color: transparent;\n",
              "      border-right-color: var(--fill-color);\n",
              "      border-bottom-color: var(--fill-color);\n",
              "    }\n",
              "    90% {\n",
              "      border-color: transparent;\n",
              "      border-bottom-color: var(--fill-color);\n",
              "    }\n",
              "  }\n",
              "</style>\n",
              "\n",
              "  <script>\n",
              "    async function quickchart(key) {\n",
              "      const quickchartButtonEl =\n",
              "        document.querySelector('#' + key + ' button');\n",
              "      quickchartButtonEl.disabled = true;  // To prevent multiple clicks.\n",
              "      quickchartButtonEl.classList.add('colab-df-spinner');\n",
              "      try {\n",
              "        const charts = await google.colab.kernel.invokeFunction(\n",
              "            'suggestCharts', [key], {});\n",
              "      } catch (error) {\n",
              "        console.error('Error during call to suggestCharts:', error);\n",
              "      }\n",
              "      quickchartButtonEl.classList.remove('colab-df-spinner');\n",
              "      quickchartButtonEl.classList.add('colab-df-quickchart-complete');\n",
              "    }\n",
              "    (() => {\n",
              "      let quickchartButtonEl =\n",
              "        document.querySelector('#df-907554f6-35cb-4889-9906-9e9690480736 button');\n",
              "      quickchartButtonEl.style.display =\n",
              "        google.colab.kernel.accessAllowed ? 'block' : 'none';\n",
              "    })();\n",
              "  </script>\n",
              "</div>\n",
              "\n",
              "    </div>\n",
              "  </div>\n"
            ],
            "application/vnd.google.colaboratory.intrinsic+json": {
              "type": "dataframe",
              "variable_name": "correlated_data"
            }
          },
          "metadata": {},
          "execution_count": 47
        }
      ]
    },
    {
      "cell_type": "markdown",
      "source": [
        "## MODEL CREATION"
      ],
      "metadata": {
        "id": "FPCeKaRXM5VS"
      }
    },
    {
      "cell_type": "code",
      "source": [
        "# split features and target\n",
        "x = correlated_data.drop('Price', axis=1)\n",
        "y = correlated_data['Price']"
      ],
      "metadata": {
        "id": "ew4O-84DAEEi"
      },
      "execution_count": 50,
      "outputs": []
    },
    {
      "cell_type": "code",
      "source": [
        "# train test split data\n",
        "x_train, x_test, y_train, y_test = train_test_split(x, y, test_size=0.2, random_state=1)"
      ],
      "metadata": {
        "id": "VcdRyWWcALv6"
      },
      "execution_count": 51,
      "outputs": []
    },
    {
      "cell_type": "code",
      "source": [
        "# create pipelines using tuples\n",
        "pipeline_lr = Pipeline([\n",
        "    ('lr_regressor', LinearRegression())\n",
        "])\n",
        "\n",
        "pipeline_dt = Pipeline([\n",
        "    ('dt_regressor', DecisionTreeRegressor())\n",
        "])\n",
        "\n",
        "pipeline_rf = Pipeline([\n",
        "    ('rf_regressor', RandomForestRegressor())\n",
        "])"
      ],
      "metadata": {
        "id": "78HNO355M2MK"
      },
      "execution_count": 52,
      "outputs": []
    },
    {
      "cell_type": "code",
      "source": [
        "# list of pipeline\n",
        "pipelines = [pipeline_lr, pipeline_dt, pipeline_rf]\n",
        "\n",
        "# fit pipelines\n",
        "for pipe in pipelines:\n",
        "    pipe.fit(x_train, y_train)"
      ],
      "metadata": {
        "id": "MCgOrBYPm4QQ"
      },
      "execution_count": 53,
      "outputs": []
    },
    {
      "cell_type": "code",
      "source": [
        "# dictionary of pipelines and classifiers\n",
        "pipe_dictionary = {0:'LinearRegression', 1:'DecisionTreeRegressor', 2:'RandomForestRegressor'}\n",
        "\n",
        "# perfomace evaluation\n",
        "for i, model in enumerate(pipelines):\n",
        "    print(\"{} Test Accuracy: {}\".format(pipe_dictionary[i], model.score(x_test, y_test)))"
      ],
      "metadata": {
        "id": "cG43WFQGotoL",
        "colab": {
          "base_uri": "https://localhost:8080/"
        },
        "outputId": "4f3f4351-676f-440d-d5e4-81c7aab63862"
      },
      "execution_count": 54,
      "outputs": [
        {
          "output_type": "stream",
          "name": "stdout",
          "text": [
            "LinearRegression Test Accuracy: 0.7575808930439166\n",
            "DecisionTreeRegressor Test Accuracy: 0.7744411717516517\n",
            "RandomForestRegressor Test Accuracy: 0.8113598284356662\n"
          ]
        }
      ]
    },
    {
      "cell_type": "code",
      "source": [
        "for i, model in enumerate(pipelines):\n",
        "  if model.score(x_test,y_test) > 0.0:\n",
        "    best_score = model.score(x_test,y_test)\n",
        "    best_model = model\n",
        "    best_regressor = i\n",
        "print('The best model for regression is: {}'.format(pipe_dictionary[best_regressor]))"
      ],
      "metadata": {
        "id": "2FYtf5fkC8Ze",
        "colab": {
          "base_uri": "https://localhost:8080/"
        },
        "outputId": "46ad5588-f8f8-4e2b-b433-df944dcc2f02"
      },
      "execution_count": 55,
      "outputs": [
        {
          "output_type": "stream",
          "name": "stdout",
          "text": [
            "The best model for regression is: RandomForestRegressor\n"
          ]
        }
      ]
    },
    {
      "cell_type": "markdown",
      "source": [
        "The best Regressor model is RandomForest Regressor which gives good score"
      ],
      "metadata": {
        "id": "IZjwowArUbO9"
      }
    },
    {
      "cell_type": "code",
      "source": [
        "# Hyperparametric tuning\n",
        "randomforest = RandomForestRegressor()\n",
        "param = {\n",
        "    'n_estimators': [10, 50, 100],\n",
        "    'bootstrap':[True, False],\n",
        "    'random_state':[0, 1, 42]\n",
        "}"
      ],
      "metadata": {
        "id": "tJ3Do4BfUm6Z"
      },
      "execution_count": 56,
      "outputs": []
    },
    {
      "cell_type": "code",
      "source": [
        "gd = GridSearchCV(randomforest, param, cv=10, scoring='r2')\n",
        "gd.fit(x_train, y_train)\n",
        "print(\"Best Parameters:\", gd.best_params_)"
      ],
      "metadata": {
        "colab": {
          "base_uri": "https://localhost:8080/"
        },
        "id": "ijROhxSvQPJr",
        "outputId": "9203c57d-429c-4933-ed56-66409d65608d"
      },
      "execution_count": 57,
      "outputs": [
        {
          "output_type": "stream",
          "name": "stdout",
          "text": [
            "Best Parameters: {'bootstrap': True, 'n_estimators': 100, 'random_state': 1}\n"
          ]
        }
      ]
    },
    {
      "cell_type": "code",
      "source": [
        "model_creation = RandomForestRegressor(n_estimators=100, bootstrap=True, random_state=1)\n",
        "model_creation.fit(x_train, y_train)\n",
        "y_predict = model_creation.predict(x_test)"
      ],
      "metadata": {
        "id": "9FjysWyAXxGf"
      },
      "execution_count": 58,
      "outputs": []
    },
    {
      "cell_type": "markdown",
      "source": [
        "PERFOMACE EVALUATION"
      ],
      "metadata": {
        "id": "yKqgM3pyYAEq"
      }
    },
    {
      "cell_type": "code",
      "source": [
        "print('R2 score: ', r2_score(y_test, y_predict))"
      ],
      "metadata": {
        "id": "kChEn7zyYEAU",
        "colab": {
          "base_uri": "https://localhost:8080/"
        },
        "outputId": "3ad0ea5e-b29d-4e18-9ea3-488383a1d1a0"
      },
      "execution_count": 59,
      "outputs": [
        {
          "output_type": "stream",
          "name": "stdout",
          "text": [
            "R2 score:  0.8189632170530036\n"
          ]
        }
      ]
    },
    {
      "cell_type": "markdown",
      "source": [
        "SAVE MODEL"
      ],
      "metadata": {
        "id": "8lb5jgxoZaA7"
      }
    },
    {
      "cell_type": "code",
      "source": [
        "joblib.dump(model_creation, 'laptop_price_model')"
      ],
      "metadata": {
        "id": "PYOmUmXTZbUk",
        "colab": {
          "base_uri": "https://localhost:8080/"
        },
        "outputId": "1dcfd59b-d3b6-4de0-91dc-dfb54a44d7c4"
      },
      "execution_count": 60,
      "outputs": [
        {
          "output_type": "execute_result",
          "data": {
            "text/plain": [
              "['laptop_price_model']"
            ]
          },
          "metadata": {},
          "execution_count": 60
        }
      ]
    },
    {
      "cell_type": "code",
      "source": [],
      "metadata": {
        "id": "huvYe_YcXbwI"
      },
      "execution_count": null,
      "outputs": []
    }
  ]
}